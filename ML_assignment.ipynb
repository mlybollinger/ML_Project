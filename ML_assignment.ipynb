{
 "cells": [
  {
   "cell_type": "code",
   "execution_count": 76,
   "id": "d1a9ad0a",
   "metadata": {},
   "outputs": [],
   "source": [
    "import pandas as pd\n",
    "from sklearn import tree\n",
    "from sklearn.tree import DecisionTreeClassifier\n",
    "from sklearn.model_selection import train_test_split\n",
    "from sklearn import metrics\n",
    "import matplotlib.pyplot as plt\n",
    "import numpy as np"
   ]
  },
  {
   "cell_type": "markdown",
   "id": "2005a96d",
   "metadata": {},
   "source": [
    "### Data Cleaning"
   ]
  },
  {
   "cell_type": "code",
   "execution_count": 1218,
   "id": "2dbbd838",
   "metadata": {},
   "outputs": [],
   "source": [
    "columns = ['ID', 'Age', 'Gender', 'Education', 'Country', 'Ethnicity', 'NScore', 'Escore', 'Oscore', 'Ascore', \n",
    "          'Cscore', 'Impulsive', 'SS', 'Alcohol', 'Amphet', 'Amyl', 'Benzos', 'Caff', 'Cannabis', 'Choc', \n",
    "           'Coke', 'Crack', 'Ecstasy', 'Heroin', 'Ketamine', 'Legalh', 'LSD', 'Methadone', 'Mushrooms', \n",
    "           'Nicotine', 'Semer', 'VSA']"
   ]
  },
  {
   "cell_type": "code",
   "execution_count": 829,
   "id": "e0533dee",
   "metadata": {},
   "outputs": [
    {
     "data": {
      "text/html": [
       "<div>\n",
       "<style scoped>\n",
       "    .dataframe tbody tr th:only-of-type {\n",
       "        vertical-align: middle;\n",
       "    }\n",
       "\n",
       "    .dataframe tbody tr th {\n",
       "        vertical-align: top;\n",
       "    }\n",
       "\n",
       "    .dataframe thead th {\n",
       "        text-align: right;\n",
       "    }\n",
       "</style>\n",
       "<table border=\"1\" class=\"dataframe\">\n",
       "  <thead>\n",
       "    <tr style=\"text-align: right;\">\n",
       "      <th></th>\n",
       "      <th>ID</th>\n",
       "      <th>Age</th>\n",
       "      <th>Gender</th>\n",
       "      <th>Education</th>\n",
       "      <th>Country</th>\n",
       "      <th>Ethnicity</th>\n",
       "      <th>NScore</th>\n",
       "      <th>Escore</th>\n",
       "      <th>Oscore</th>\n",
       "      <th>Ascore</th>\n",
       "      <th>...</th>\n",
       "      <th>Ecstasy</th>\n",
       "      <th>Heroin</th>\n",
       "      <th>Ketamine</th>\n",
       "      <th>Legalh</th>\n",
       "      <th>LSD</th>\n",
       "      <th>Methadone</th>\n",
       "      <th>Mushrooms</th>\n",
       "      <th>Nicotine</th>\n",
       "      <th>Semer</th>\n",
       "      <th>VSA</th>\n",
       "    </tr>\n",
       "  </thead>\n",
       "  <tbody>\n",
       "    <tr>\n",
       "      <th>0</th>\n",
       "      <td>1</td>\n",
       "      <td>0.49788</td>\n",
       "      <td>0.48246</td>\n",
       "      <td>-0.05921</td>\n",
       "      <td>0.96082</td>\n",
       "      <td>0.12600</td>\n",
       "      <td>0.31287</td>\n",
       "      <td>-0.57545</td>\n",
       "      <td>-0.58331</td>\n",
       "      <td>-0.91699</td>\n",
       "      <td>...</td>\n",
       "      <td>CL0</td>\n",
       "      <td>CL0</td>\n",
       "      <td>CL0</td>\n",
       "      <td>CL0</td>\n",
       "      <td>CL0</td>\n",
       "      <td>CL0</td>\n",
       "      <td>CL0</td>\n",
       "      <td>CL2</td>\n",
       "      <td>CL0</td>\n",
       "      <td>CL0</td>\n",
       "    </tr>\n",
       "    <tr>\n",
       "      <th>1</th>\n",
       "      <td>2</td>\n",
       "      <td>-0.07854</td>\n",
       "      <td>-0.48246</td>\n",
       "      <td>1.98437</td>\n",
       "      <td>0.96082</td>\n",
       "      <td>-0.31685</td>\n",
       "      <td>-0.67825</td>\n",
       "      <td>1.93886</td>\n",
       "      <td>1.43533</td>\n",
       "      <td>0.76096</td>\n",
       "      <td>...</td>\n",
       "      <td>CL4</td>\n",
       "      <td>CL0</td>\n",
       "      <td>CL2</td>\n",
       "      <td>CL0</td>\n",
       "      <td>CL2</td>\n",
       "      <td>CL3</td>\n",
       "      <td>CL0</td>\n",
       "      <td>CL4</td>\n",
       "      <td>CL0</td>\n",
       "      <td>CL0</td>\n",
       "    </tr>\n",
       "    <tr>\n",
       "      <th>2</th>\n",
       "      <td>3</td>\n",
       "      <td>0.49788</td>\n",
       "      <td>-0.48246</td>\n",
       "      <td>-0.05921</td>\n",
       "      <td>0.96082</td>\n",
       "      <td>-0.31685</td>\n",
       "      <td>-0.46725</td>\n",
       "      <td>0.80523</td>\n",
       "      <td>-0.84732</td>\n",
       "      <td>-1.62090</td>\n",
       "      <td>...</td>\n",
       "      <td>CL0</td>\n",
       "      <td>CL0</td>\n",
       "      <td>CL0</td>\n",
       "      <td>CL0</td>\n",
       "      <td>CL0</td>\n",
       "      <td>CL0</td>\n",
       "      <td>CL1</td>\n",
       "      <td>CL0</td>\n",
       "      <td>CL0</td>\n",
       "      <td>CL0</td>\n",
       "    </tr>\n",
       "    <tr>\n",
       "      <th>3</th>\n",
       "      <td>4</td>\n",
       "      <td>-0.95197</td>\n",
       "      <td>0.48246</td>\n",
       "      <td>1.16365</td>\n",
       "      <td>0.96082</td>\n",
       "      <td>-0.31685</td>\n",
       "      <td>-0.14882</td>\n",
       "      <td>-0.80615</td>\n",
       "      <td>-0.01928</td>\n",
       "      <td>0.59042</td>\n",
       "      <td>...</td>\n",
       "      <td>CL0</td>\n",
       "      <td>CL0</td>\n",
       "      <td>CL2</td>\n",
       "      <td>CL0</td>\n",
       "      <td>CL0</td>\n",
       "      <td>CL0</td>\n",
       "      <td>CL0</td>\n",
       "      <td>CL2</td>\n",
       "      <td>CL0</td>\n",
       "      <td>CL0</td>\n",
       "    </tr>\n",
       "    <tr>\n",
       "      <th>4</th>\n",
       "      <td>5</td>\n",
       "      <td>0.49788</td>\n",
       "      <td>0.48246</td>\n",
       "      <td>1.98437</td>\n",
       "      <td>0.96082</td>\n",
       "      <td>-0.31685</td>\n",
       "      <td>0.73545</td>\n",
       "      <td>-1.63340</td>\n",
       "      <td>-0.45174</td>\n",
       "      <td>-0.30172</td>\n",
       "      <td>...</td>\n",
       "      <td>CL1</td>\n",
       "      <td>CL0</td>\n",
       "      <td>CL0</td>\n",
       "      <td>CL1</td>\n",
       "      <td>CL0</td>\n",
       "      <td>CL0</td>\n",
       "      <td>CL2</td>\n",
       "      <td>CL2</td>\n",
       "      <td>CL0</td>\n",
       "      <td>CL0</td>\n",
       "    </tr>\n",
       "  </tbody>\n",
       "</table>\n",
       "<p>5 rows × 32 columns</p>\n",
       "</div>"
      ],
      "text/plain": [
       "   ID      Age   Gender  Education  Country  Ethnicity   NScore   Escore  \\\n",
       "0   1  0.49788  0.48246   -0.05921  0.96082    0.12600  0.31287 -0.57545   \n",
       "1   2 -0.07854 -0.48246    1.98437  0.96082   -0.31685 -0.67825  1.93886   \n",
       "2   3  0.49788 -0.48246   -0.05921  0.96082   -0.31685 -0.46725  0.80523   \n",
       "3   4 -0.95197  0.48246    1.16365  0.96082   -0.31685 -0.14882 -0.80615   \n",
       "4   5  0.49788  0.48246    1.98437  0.96082   -0.31685  0.73545 -1.63340   \n",
       "\n",
       "    Oscore   Ascore  ...  Ecstasy  Heroin  Ketamine Legalh  LSD Methadone  \\\n",
       "0 -0.58331 -0.91699  ...      CL0     CL0       CL0    CL0  CL0       CL0   \n",
       "1  1.43533  0.76096  ...      CL4     CL0       CL2    CL0  CL2       CL3   \n",
       "2 -0.84732 -1.62090  ...      CL0     CL0       CL0    CL0  CL0       CL0   \n",
       "3 -0.01928  0.59042  ...      CL0     CL0       CL2    CL0  CL0       CL0   \n",
       "4 -0.45174 -0.30172  ...      CL1     CL0       CL0    CL1  CL0       CL0   \n",
       "\n",
       "  Mushrooms Nicotine Semer  VSA  \n",
       "0       CL0      CL2   CL0  CL0  \n",
       "1       CL0      CL4   CL0  CL0  \n",
       "2       CL1      CL0   CL0  CL0  \n",
       "3       CL0      CL2   CL0  CL0  \n",
       "4       CL2      CL2   CL0  CL0  \n",
       "\n",
       "[5 rows x 32 columns]"
      ]
     },
     "execution_count": 829,
     "metadata": {},
     "output_type": "execute_result"
    }
   ],
   "source": [
    "df = pd.read_csv('drug_consumption.csv', names=columns)\n",
    "\n",
    "df.head()"
   ]
  },
  {
   "cell_type": "code",
   "execution_count": 5,
   "id": "6e7d0b76",
   "metadata": {},
   "outputs": [
    {
     "data": {
      "text/plain": [
       "ID             int64\n",
       "Age          float64\n",
       "Gender       float64\n",
       "Education    float64\n",
       "Country      float64\n",
       "Ethnicity    float64\n",
       "NScore       float64\n",
       "Escore       float64\n",
       "Oscore       float64\n",
       "Ascore       float64\n",
       "Cscore       float64\n",
       "Impulsive    float64\n",
       "SS           float64\n",
       "Alcohol       object\n",
       "Amphet        object\n",
       "Amyl          object\n",
       "Benzos        object\n",
       "Caff          object\n",
       "Cannabis      object\n",
       "Choc          object\n",
       "Coke          object\n",
       "Crack         object\n",
       "Ecstasy       object\n",
       "Heroin        object\n",
       "Ketamine      object\n",
       "Legalh        object\n",
       "LSD           object\n",
       "Methadone     object\n",
       "Mushrooms     object\n",
       "Nicotine      object\n",
       "Semer         object\n",
       "VSA           object\n",
       "dtype: object"
      ]
     },
     "execution_count": 5,
     "metadata": {},
     "output_type": "execute_result"
    }
   ],
   "source": [
    "df.dtypes"
   ]
  },
  {
   "cell_type": "code",
   "execution_count": 830,
   "id": "55280bdd",
   "metadata": {},
   "outputs": [],
   "source": [
    "#Data Cleaning\n",
    "\n",
    "df['Gender'] = df['Gender'].apply(lambda x: 0 if x < 0 else 1)"
   ]
  },
  {
   "cell_type": "code",
   "execution_count": 831,
   "id": "fca94f36",
   "metadata": {},
   "outputs": [],
   "source": [
    "ethnicity_dict = {-.50212:'Asian', -1.10702:'Black', 1.90725:'Black/Asian', .12600:'White/Asian', -.22166:'White/Black', \n",
    "                .11440:'Other', -.31685:'White'}\n",
    "\n",
    "country_dict = {-0.09765:'Australia', 0.24923:'Canada', -0.46841:'New Zealand', -0.28519:'Other', 0.21128:'Ireland', \n",
    "               0.96082:'UK', -0.57009:'USA'}"
   ]
  },
  {
   "cell_type": "code",
   "execution_count": 832,
   "id": "1b2f20bf",
   "metadata": {},
   "outputs": [],
   "source": [
    "df['Ethnicity'] = df['Ethnicity'].apply(lambda x: ethnicity_dict[x])"
   ]
  },
  {
   "cell_type": "code",
   "execution_count": 833,
   "id": "badc343c",
   "metadata": {},
   "outputs": [],
   "source": [
    "df['Country'] = df['Country'].apply(lambda x: country_dict[x])"
   ]
  },
  {
   "cell_type": "code",
   "execution_count": 834,
   "id": "8e88746b",
   "metadata": {},
   "outputs": [],
   "source": [
    "usage_dict = {'CL0': 0, 'CL1': 0, 'CL2': 1, \n",
    "              'CL3': 1, 'CL4': 1, 'CL5': 1, \n",
    "              'CL6': 1}"
   ]
  },
  {
   "cell_type": "code",
   "execution_count": 835,
   "id": "2483e6cd",
   "metadata": {},
   "outputs": [],
   "source": [
    "drugs = [\"Alcohol\", \"Amphet\", \"Amyl\", \"Benzos\", \"Caff\", \"Cannabis\", \"Choc\", \"Coke\", \"Crack\", \"Ecstasy\", \"Heroin\", \n",
    "         \"Ketamine\", \"Legalh\", \"LSD\", \"Methadone\", \"Mushrooms\", \"Nicotine\", \"Semer\", \"VSA\"]\n",
    "\n",
    "for drug in drugs:\n",
    "    df[drug] = df[drug].apply(lambda x: usage_dict[x])"
   ]
  },
  {
   "cell_type": "code",
   "execution_count": 861,
   "id": "7f70da6c",
   "metadata": {},
   "outputs": [
    {
     "data": {
      "text/plain": [
       "0    1191\n",
       "1     694\n",
       "Name: Mushrooms, dtype: int64"
      ]
     },
     "execution_count": 861,
     "metadata": {},
     "output_type": "execute_result"
    }
   ],
   "source": [
    "df[\"Mushrooms\"].value_counts()"
   ]
  },
  {
   "cell_type": "markdown",
   "id": "e4471eec",
   "metadata": {},
   "source": [
    "### Setting up Classification Problem"
   ]
  },
  {
   "cell_type": "code",
   "execution_count": 1599,
   "id": "79fdbb1e",
   "metadata": {},
   "outputs": [],
   "source": [
    "#define classification problems: semeron consumption, heroin consumption\n",
    "\n",
    "X = df[['Age', 'Gender', 'NScore', 'Escore', 'Oscore', 'Ascore', 'Cscore', 'Impulsive', 'SS', 'Country_Australia', 'Country_Canada',\n",
    "       'Country_Ireland', 'Country_New Zealand', 'Country_Other', 'Country_UK',\n",
    "       'Country_USA', 'Ethnicity_Asian', 'Ethnicity_Black', 'Ethnicity_Black/Asian', 'Ethnicity_Other', \n",
    "        'Ethnicity_White', 'Ethnicity_White/Asian', 'Ethnicity_White/Black']]\n",
    "\n",
    "y = df['Mushrooms']"
   ]
  },
  {
   "cell_type": "code",
   "execution_count": null,
   "id": "dfad0824",
   "metadata": {},
   "outputs": [],
   "source": []
  },
  {
   "cell_type": "code",
   "execution_count": 837,
   "id": "aa8c363e",
   "metadata": {},
   "outputs": [],
   "source": [
    "df = pd.get_dummies(df, columns=['Country', 'Ethnicity'])"
   ]
  },
  {
   "cell_type": "code",
   "execution_count": null,
   "id": "7f52f73c",
   "metadata": {},
   "outputs": [],
   "source": []
  },
  {
   "cell_type": "code",
   "execution_count": 207,
   "id": "d38c8d1e",
   "metadata": {},
   "outputs": [
    {
     "data": {
      "text/plain": [
       "0       0\n",
       "1       0\n",
       "2       0\n",
       "3       0\n",
       "4       0\n",
       "       ..\n",
       "1880    0\n",
       "1881    0\n",
       "1882    0\n",
       "1883    0\n",
       "1884    0\n",
       "Name: Heroin, Length: 1885, dtype: int64"
      ]
     },
     "execution_count": 207,
     "metadata": {},
     "output_type": "execute_result"
    }
   ],
   "source": [
    "df['Heroin']"
   ]
  },
  {
   "cell_type": "code",
   "execution_count": 197,
   "id": "869abb3c",
   "metadata": {},
   "outputs": [],
   "source": []
  },
  {
   "cell_type": "code",
   "execution_count": 342,
   "id": "e2e2745f",
   "metadata": {},
   "outputs": [],
   "source": [
    "df['Heroin'] = df['Heroin'].apply(lambda x: usage_dict[x])"
   ]
  },
  {
   "cell_type": "markdown",
   "id": "d357031d",
   "metadata": {},
   "source": [
    "### Decision Tree"
   ]
  },
  {
   "cell_type": "code",
   "execution_count": 1600,
   "id": "6cd380b5",
   "metadata": {},
   "outputs": [
    {
     "data": {
      "text/plain": [
       "Text(0.5, 1.0, 'Total Impurity vs effective alpha for training set')"
      ]
     },
     "execution_count": 1600,
     "metadata": {},
     "output_type": "execute_result"
    },
    {
     "data": {
      "image/png": "[encoded data removed]",
      "text/plain": [
       "<Figure size 640x480 with 1 Axes>"
      ]
     },
     "metadata": {},
     "output_type": "display_data"
    }
   ],
   "source": [
    "#train_test_split\n",
    "\n",
    "X_train, X_test, y_train, y_test = train_test_split(X, y, test_size=.2, random_state=0)\n",
    "\n",
    "X_train, X_valid, y_train, y_valid = train_test_split(X_train, y_train, test_size=.2, random_state=0)\n",
    "\n",
    "clf = DecisionTreeClassifier(random_state=0)\n",
    "path = clf.cost_complexity_pruning_path(X_train, y_train)\n",
    "ccp_alphas, impurities = path.ccp_alphas, path.impurities\n",
    "\n",
    "fig, ax = plt.subplots()\n",
    "ax.plot(ccp_alphas[:-1], impurities[:-1], marker=\"o\", drawstyle=\"steps-post\")\n",
    "ax.set_xlabel(\"effective alpha\")\n",
    "ax.set_ylabel(\"total impurity of leaves\")\n",
    "ax.set_title(\"Total Impurity vs effective alpha for training set\")"
   ]
  },
  {
   "cell_type": "code",
   "execution_count": 1601,
   "id": "6aeafb30",
   "metadata": {},
   "outputs": [],
   "source": [
    "#create list of effective alphas for pruning \n",
    "\n",
    "alphas = ccp_alphas[:-1]"
   ]
  },
  {
   "cell_type": "code",
   "execution_count": 1602,
   "id": "e7f5c0e1",
   "metadata": {},
   "outputs": [],
   "source": [
    "# create list of decision tree classifiers with different alpha values to plot\n",
    "clfs = []\n",
    "\n",
    "for alpha in alphas: \n",
    "    clf = DecisionTreeClassifier(random_state=0, ccp_alpha = alpha)\n",
    "    clf.fit(X_train, y_train)\n",
    "    clfs.append(clf)"
   ]
  },
  {
   "cell_type": "code",
   "execution_count": 1603,
   "id": "98d4df3f",
   "metadata": {},
   "outputs": [
    {
     "data": {
      "text/plain": [
       "'\\nplt.clf()\\nfig, ax = plt.subplots()\\nax.set_xlabel(\"alpha\")\\nax.set_ylabel(\"ROC-AUC\")\\nax.set_title(\"ROC-AUC vs alpha for training and testing sets\")\\nax.plot(alphas, train_scores, marker=\"o\", label=\"train\", drawstyle=\"steps-post\")\\nax.plot(alphas, test_scores, marker=\"o\", label=\"test\", drawstyle=\"steps-post\")\\nax.legend()\\n\\nplt.savefig(\"coke_roc_auc_alpha.png\")\\n'"
      ]
     },
     "execution_count": 1603,
     "metadata": {},
     "output_type": "execute_result"
    }
   ],
   "source": [
    "train_scores = [roc_auc_score(y_train, clf.predict_proba(X_train)[:, 1]) for clf in clfs]\n",
    "test_scores = [metrics.roc_auc_score(y_valid, clf.predict_proba(X_valid)[:, 1]) for clf in clfs]\n",
    "'''\n",
    "plt.clf()\n",
    "fig, ax = plt.subplots()\n",
    "ax.set_xlabel(\"alpha\")\n",
    "ax.set_ylabel(\"ROC-AUC\")\n",
    "ax.set_title(\"ROC-AUC vs alpha for training and testing sets\")\n",
    "ax.plot(alphas, train_scores, marker=\"o\", label=\"train\", drawstyle=\"steps-post\")\n",
    "ax.plot(alphas, test_scores, marker=\"o\", label=\"test\", drawstyle=\"steps-post\")\n",
    "ax.legend()\n",
    "\n",
    "plt.savefig(\"coke_roc_auc_alpha.png\")\n",
    "'''"
   ]
  },
  {
   "cell_type": "code",
   "execution_count": 1224,
   "id": "dac2e94a",
   "metadata": {},
   "outputs": [
    {
     "name": "stdout",
     "output_type": "stream",
     "text": [
      "0.002590779007060246\n",
      "[0.6523509561304837, 0.6429021372328458, 0.6400224971878515, 0.6379977502812149, 0.6372553430821146, 0.6317885264341957, 0.6308661417322834, 0.633408323959505, 0.633408323959505, 0.633408323959505, 0.6323284589426321, 0.6323284589426321, 0.6357705286839145, 0.6523059617547806, 0.6535208098987626, 0.6535208098987626, 0.656962879640045, 0.6557255343082115, 0.6504161979752532, 0.657615298087739, 0.657615298087739, 0.6563554555680541, 0.6534308211473565, 0.653970753655793, 0.6539932508436446, 0.6250393700787402, 0.6250393700787402, 0.6233070866141732, 0.6242969628796401, 0.6474240719910012, 0.6474240719910012, 0.6474240719910012, 0.6474240719910012, 0.6474240719910012, 0.6474240719910012, 0.6474240719910012, 0.6474240719910012, 0.6474240719910012, 0.6349606299212598, 0.6488638920134984, 0.6514285714285715, 0.6514285714285715, 0.6499887514060743, 0.6596400449943758, 0.6596400449943758, 0.6596400449943758, 0.6596400449943758, 0.6596400449943758, 0.6597975253093363, 0.6597975253093363, 0.6624071991001125, 0.6711811023622047, 0.6674915635545557, 0.6674915635545557, 0.6674915635545557, 0.6674915635545557, 0.6695163104611923, 0.6747131608548931, 0.6747131608548931, 0.6747131608548931, 0.6743532058492688, 0.6743307086614173, 0.6743307086614173, 0.6743307086614173, 0.6743307086614173, 0.6733858267716536, 0.6733858267716536, 0.689583802024747, 0.7030596175478065, 0.699302587176603, 0.7060517435320585, 0.7060517435320585, 0.7103487064116984, 0.7103487064116984, 0.7094488188976378, 0.7119910011248594, 0.7112260967379078, 0.7112260967379078, 0.725421822272216, 0.7280989876265468, 0.7666816647919011, 0.7651743532058494, 0.7616197975253094, 0.7647244094488188, 0.7698987626546682, 0.7687514060742408, 0.7724859392575928, 0.7706636670416198, 0.7820922384701912, 0.7920809898762655, 0.7896512935883013, 0.79466816647919, 0.7921259842519685, 0.7898537682789651, 0.7914060742407198, 0.78859392575928, 0.792800899887514, 0.7912710911136109, 0.7927334083239596, 0.7967379077615299, 0.7894488188976378, 0.7863217097862768, 0.7809223847019122, 0.7908661417322835, 0.7621597300337457, 0.7571203599550056, 0.7725984251968503, 0.7809673790776153, 0.7385151856018, 0.705376827896513]\n"
     ]
    }
   ],
   "source": [
    "best_score_index = np.argmax(np.array(test_scores))\n",
    "alpha = alphas[best_score_index]\n",
    "print(alpha)\n",
    "print(test_scores)"
   ]
  },
  {
   "cell_type": "code",
   "execution_count": 1198,
   "id": "c8726f4c",
   "metadata": {},
   "outputs": [
    {
     "name": "stdout",
     "output_type": "stream",
     "text": [
      "9\n"
     ]
    }
   ],
   "source": [
    "clf = DecisionTreeClassifier(random_state=0, ccp_alpha=alpha)\n",
    "clf.fit(X_train, y_train)\n",
    "roc_auc_score(y_test, clf.predict_proba(X_test)[:, 1])\n",
    "\n",
    "print(clf.tree_.node_count)\n"
   ]
  },
  {
   "cell_type": "code",
   "execution_count": 1606,
   "id": "67cf5aaa",
   "metadata": {},
   "outputs": [
    {
     "name": "stderr",
     "output_type": "stream",
     "text": [
      "/opt/homebrew/Caskroom/miniconda/base/envs/holford/lib/python3.11/site-packages/sklearn/model_selection/_validation.py:824: UserWarning: Scoring failed. The score on this train-test partition for these parameters will be set to nan. Details: \n",
      "Traceback (most recent call last):\n",
      "  File \"/opt/homebrew/Caskroom/miniconda/base/envs/holford/lib/python3.11/site-packages/sklearn/metrics/_scorer.py\", line 459, in _score\n",
      "    y_pred = method_caller(clf, \"decision_function\", X, pos_label=pos_label)\n",
      "             ^^^^^^^^^^^^^^^^^^^^^^^^^^^^^^^^^^^^^^^^^^^^^^^^^^^^^^^^^^^^^^^\n",
      "  File \"/opt/homebrew/Caskroom/miniconda/base/envs/holford/lib/python3.11/site-packages/sklearn/metrics/_scorer.py\", line 86, in _cached_call\n",
      "    result, _ = _get_response_values(\n",
      "                ^^^^^^^^^^^^^^^^^^^^^\n",
      "  File \"/opt/homebrew/Caskroom/miniconda/base/envs/holford/lib/python3.11/site-packages/sklearn/utils/_response.py\", line 73, in _get_response_values\n",
      "    prediction_method = _check_response_method(estimator, response_method)\n",
      "                        ^^^^^^^^^^^^^^^^^^^^^^^^^^^^^^^^^^^^^^^^^^^^^^^^^^\n",
      "  File \"/opt/homebrew/Caskroom/miniconda/base/envs/holford/lib/python3.11/site-packages/sklearn/utils/validation.py\", line 1940, in _check_response_method\n",
      "    raise AttributeError(\n",
      "AttributeError: DecisionTreeClassifier has none of the following attributes: decision_function.\n",
      "\n",
      "During handling of the above exception, another exception occurred:\n",
      "\n",
      "Traceback (most recent call last):\n",
      "  File \"/opt/homebrew/Caskroom/miniconda/base/envs/holford/lib/python3.11/site-packages/sklearn/model_selection/_validation.py\", line 813, in _score\n",
      "    scores = scorer(estimator, X_test, y_test)\n",
      "             ^^^^^^^^^^^^^^^^^^^^^^^^^^^^^^^^^\n",
      "  File \"/opt/homebrew/Caskroom/miniconda/base/envs/holford/lib/python3.11/site-packages/sklearn/metrics/_scorer.py\", line 266, in __call__\n",
      "    return self._score(partial(_cached_call, None), estimator, X, y_true, **_kwargs)\n",
      "           ^^^^^^^^^^^^^^^^^^^^^^^^^^^^^^^^^^^^^^^^^^^^^^^^^^^^^^^^^^^^^^^^^^^^^^^^^\n",
      "  File \"/opt/homebrew/Caskroom/miniconda/base/envs/holford/lib/python3.11/site-packages/sklearn/metrics/_scorer.py\", line 466, in _score\n",
      "    y_pred = method_caller(clf, \"predict_proba\", X, pos_label=pos_label)\n",
      "             ^^^^^^^^^^^^^^^^^^^^^^^^^^^^^^^^^^^^^^^^^^^^^^^^^^^^^^^^^^^\n",
      "  File \"/opt/homebrew/Caskroom/miniconda/base/envs/holford/lib/python3.11/site-packages/sklearn/metrics/_scorer.py\", line 86, in _cached_call\n",
      "    result, _ = _get_response_values(\n",
      "                ^^^^^^^^^^^^^^^^^^^^^\n",
      "  File \"/opt/homebrew/Caskroom/miniconda/base/envs/holford/lib/python3.11/site-packages/sklearn/utils/_response.py\", line 96, in _get_response_values\n",
      "    raise ValueError(err_msg)\n",
      "ValueError: Got predict_proba of shape (377, 1), but need classifier with two classes.\n",
      "\n",
      "  warnings.warn(\n",
      "/opt/homebrew/Caskroom/miniconda/base/envs/holford/lib/python3.11/site-packages/sklearn/model_selection/_validation.py:824: UserWarning: Scoring failed. The score on this train-test partition for these parameters will be set to nan. Details: \n",
      "Traceback (most recent call last):\n",
      "  File \"/opt/homebrew/Caskroom/miniconda/base/envs/holford/lib/python3.11/site-packages/sklearn/metrics/_scorer.py\", line 459, in _score\n",
      "    y_pred = method_caller(clf, \"decision_function\", X, pos_label=pos_label)\n",
      "             ^^^^^^^^^^^^^^^^^^^^^^^^^^^^^^^^^^^^^^^^^^^^^^^^^^^^^^^^^^^^^^^\n",
      "  File \"/opt/homebrew/Caskroom/miniconda/base/envs/holford/lib/python3.11/site-packages/sklearn/metrics/_scorer.py\", line 86, in _cached_call\n",
      "    result, _ = _get_response_values(\n",
      "                ^^^^^^^^^^^^^^^^^^^^^\n",
      "  File \"/opt/homebrew/Caskroom/miniconda/base/envs/holford/lib/python3.11/site-packages/sklearn/utils/_response.py\", line 73, in _get_response_values\n",
      "    prediction_method = _check_response_method(estimator, response_method)\n",
      "                        ^^^^^^^^^^^^^^^^^^^^^^^^^^^^^^^^^^^^^^^^^^^^^^^^^^\n",
      "  File \"/opt/homebrew/Caskroom/miniconda/base/envs/holford/lib/python3.11/site-packages/sklearn/utils/validation.py\", line 1940, in _check_response_method\n",
      "    raise AttributeError(\n",
      "AttributeError: DecisionTreeClassifier has none of the following attributes: decision_function.\n",
      "\n",
      "During handling of the above exception, another exception occurred:\n",
      "\n",
      "Traceback (most recent call last):\n",
      "  File \"/opt/homebrew/Caskroom/miniconda/base/envs/holford/lib/python3.11/site-packages/sklearn/model_selection/_validation.py\", line 813, in _score\n",
      "    scores = scorer(estimator, X_test, y_test)\n",
      "             ^^^^^^^^^^^^^^^^^^^^^^^^^^^^^^^^^\n",
      "  File \"/opt/homebrew/Caskroom/miniconda/base/envs/holford/lib/python3.11/site-packages/sklearn/metrics/_scorer.py\", line 266, in __call__\n",
      "    return self._score(partial(_cached_call, None), estimator, X, y_true, **_kwargs)\n",
      "           ^^^^^^^^^^^^^^^^^^^^^^^^^^^^^^^^^^^^^^^^^^^^^^^^^^^^^^^^^^^^^^^^^^^^^^^^^\n",
      "  File \"/opt/homebrew/Caskroom/miniconda/base/envs/holford/lib/python3.11/site-packages/sklearn/metrics/_scorer.py\", line 466, in _score\n",
      "    y_pred = method_caller(clf, \"predict_proba\", X, pos_label=pos_label)\n",
      "             ^^^^^^^^^^^^^^^^^^^^^^^^^^^^^^^^^^^^^^^^^^^^^^^^^^^^^^^^^^^\n",
      "  File \"/opt/homebrew/Caskroom/miniconda/base/envs/holford/lib/python3.11/site-packages/sklearn/metrics/_scorer.py\", line 86, in _cached_call\n",
      "    result, _ = _get_response_values(\n",
      "                ^^^^^^^^^^^^^^^^^^^^^\n",
      "  File \"/opt/homebrew/Caskroom/miniconda/base/envs/holford/lib/python3.11/site-packages/sklearn/utils/_response.py\", line 96, in _get_response_values\n",
      "    raise ValueError(err_msg)\n",
      "ValueError: Got predict_proba of shape (150, 1), but need classifier with two classes.\n",
      "\n",
      "  warnings.warn(\n",
      "/opt/homebrew/Caskroom/miniconda/base/envs/holford/lib/python3.11/site-packages/sklearn/model_selection/_validation.py:824: UserWarning: Scoring failed. The score on this train-test partition for these parameters will be set to nan. Details: \n",
      "Traceback (most recent call last):\n",
      "  File \"/opt/homebrew/Caskroom/miniconda/base/envs/holford/lib/python3.11/site-packages/sklearn/metrics/_scorer.py\", line 459, in _score\n",
      "    y_pred = method_caller(clf, \"decision_function\", X, pos_label=pos_label)\n",
      "             ^^^^^^^^^^^^^^^^^^^^^^^^^^^^^^^^^^^^^^^^^^^^^^^^^^^^^^^^^^^^^^^\n",
      "  File \"/opt/homebrew/Caskroom/miniconda/base/envs/holford/lib/python3.11/site-packages/sklearn/metrics/_scorer.py\", line 86, in _cached_call\n",
      "    result, _ = _get_response_values(\n",
      "                ^^^^^^^^^^^^^^^^^^^^^\n",
      "  File \"/opt/homebrew/Caskroom/miniconda/base/envs/holford/lib/python3.11/site-packages/sklearn/utils/_response.py\", line 73, in _get_response_values\n",
      "    prediction_method = _check_response_method(estimator, response_method)\n",
      "                        ^^^^^^^^^^^^^^^^^^^^^^^^^^^^^^^^^^^^^^^^^^^^^^^^^^\n",
      "  File \"/opt/homebrew/Caskroom/miniconda/base/envs/holford/lib/python3.11/site-packages/sklearn/utils/validation.py\", line 1940, in _check_response_method\n",
      "    raise AttributeError(\n",
      "AttributeError: DecisionTreeClassifier has none of the following attributes: decision_function.\n",
      "\n",
      "During handling of the above exception, another exception occurred:\n",
      "\n",
      "Traceback (most recent call last):\n",
      "  File \"/opt/homebrew/Caskroom/miniconda/base/envs/holford/lib/python3.11/site-packages/sklearn/model_selection/_validation.py\", line 813, in _score\n",
      "    scores = scorer(estimator, X_test, y_test)\n",
      "             ^^^^^^^^^^^^^^^^^^^^^^^^^^^^^^^^^\n",
      "  File \"/opt/homebrew/Caskroom/miniconda/base/envs/holford/lib/python3.11/site-packages/sklearn/metrics/_scorer.py\", line 266, in __call__\n",
      "    return self._score(partial(_cached_call, None), estimator, X, y_true, **_kwargs)\n",
      "           ^^^^^^^^^^^^^^^^^^^^^^^^^^^^^^^^^^^^^^^^^^^^^^^^^^^^^^^^^^^^^^^^^^^^^^^^^\n",
      "  File \"/opt/homebrew/Caskroom/miniconda/base/envs/holford/lib/python3.11/site-packages/sklearn/metrics/_scorer.py\", line 466, in _score\n",
      "    y_pred = method_caller(clf, \"predict_proba\", X, pos_label=pos_label)\n",
      "             ^^^^^^^^^^^^^^^^^^^^^^^^^^^^^^^^^^^^^^^^^^^^^^^^^^^^^^^^^^^\n",
      "  File \"/opt/homebrew/Caskroom/miniconda/base/envs/holford/lib/python3.11/site-packages/sklearn/metrics/_scorer.py\", line 86, in _cached_call\n",
      "    result, _ = _get_response_values(\n",
      "                ^^^^^^^^^^^^^^^^^^^^^\n",
      "  File \"/opt/homebrew/Caskroom/miniconda/base/envs/holford/lib/python3.11/site-packages/sklearn/utils/_response.py\", line 96, in _get_response_values\n",
      "    raise ValueError(err_msg)\n",
      "ValueError: Got predict_proba of shape (377, 1), but need classifier with two classes.\n",
      "\n",
      "  warnings.warn(\n",
      "/opt/homebrew/Caskroom/miniconda/base/envs/holford/lib/python3.11/site-packages/sklearn/model_selection/_validation.py:824: UserWarning: Scoring failed. The score on this train-test partition for these parameters will be set to nan. Details: \n",
      "Traceback (most recent call last):\n",
      "  File \"/opt/homebrew/Caskroom/miniconda/base/envs/holford/lib/python3.11/site-packages/sklearn/metrics/_scorer.py\", line 459, in _score\n",
      "    y_pred = method_caller(clf, \"decision_function\", X, pos_label=pos_label)\n",
      "             ^^^^^^^^^^^^^^^^^^^^^^^^^^^^^^^^^^^^^^^^^^^^^^^^^^^^^^^^^^^^^^^\n",
      "  File \"/opt/homebrew/Caskroom/miniconda/base/envs/holford/lib/python3.11/site-packages/sklearn/metrics/_scorer.py\", line 86, in _cached_call\n",
      "    result, _ = _get_response_values(\n",
      "                ^^^^^^^^^^^^^^^^^^^^^\n",
      "  File \"/opt/homebrew/Caskroom/miniconda/base/envs/holford/lib/python3.11/site-packages/sklearn/utils/_response.py\", line 73, in _get_response_values\n",
      "    prediction_method = _check_response_method(estimator, response_method)\n",
      "                        ^^^^^^^^^^^^^^^^^^^^^^^^^^^^^^^^^^^^^^^^^^^^^^^^^^\n",
      "  File \"/opt/homebrew/Caskroom/miniconda/base/envs/holford/lib/python3.11/site-packages/sklearn/utils/validation.py\", line 1940, in _check_response_method\n",
      "    raise AttributeError(\n",
      "AttributeError: DecisionTreeClassifier has none of the following attributes: decision_function.\n",
      "\n",
      "During handling of the above exception, another exception occurred:\n",
      "\n",
      "Traceback (most recent call last):\n",
      "  File \"/opt/homebrew/Caskroom/miniconda/base/envs/holford/lib/python3.11/site-packages/sklearn/model_selection/_validation.py\", line 813, in _score\n",
      "    scores = scorer(estimator, X_test, y_test)\n",
      "             ^^^^^^^^^^^^^^^^^^^^^^^^^^^^^^^^^\n",
      "  File \"/opt/homebrew/Caskroom/miniconda/base/envs/holford/lib/python3.11/site-packages/sklearn/metrics/_scorer.py\", line 266, in __call__\n",
      "    return self._score(partial(_cached_call, None), estimator, X, y_true, **_kwargs)\n",
      "           ^^^^^^^^^^^^^^^^^^^^^^^^^^^^^^^^^^^^^^^^^^^^^^^^^^^^^^^^^^^^^^^^^^^^^^^^^\n",
      "  File \"/opt/homebrew/Caskroom/miniconda/base/envs/holford/lib/python3.11/site-packages/sklearn/metrics/_scorer.py\", line 466, in _score\n",
      "    y_pred = method_caller(clf, \"predict_proba\", X, pos_label=pos_label)\n",
      "             ^^^^^^^^^^^^^^^^^^^^^^^^^^^^^^^^^^^^^^^^^^^^^^^^^^^^^^^^^^^\n",
      "  File \"/opt/homebrew/Caskroom/miniconda/base/envs/holford/lib/python3.11/site-packages/sklearn/metrics/_scorer.py\", line 86, in _cached_call\n",
      "    result, _ = _get_response_values(\n",
      "                ^^^^^^^^^^^^^^^^^^^^^\n",
      "  File \"/opt/homebrew/Caskroom/miniconda/base/envs/holford/lib/python3.11/site-packages/sklearn/utils/_response.py\", line 96, in _get_response_values\n",
      "    raise ValueError(err_msg)\n",
      "ValueError: Got predict_proba of shape (301, 1), but need classifier with two classes.\n",
      "\n",
      "  warnings.warn(\n"
     ]
    },
    {
     "data": {
      "text/plain": [
       "Text(0.5, 1.0, 'Learning Curve, Mushrooms')"
      ]
     },
     "execution_count": 1606,
     "metadata": {},
     "output_type": "execute_result"
    },
    {
     "data": {
      "image/png": "[encoded data removed]",
      "text/plain": [
       "<Figure size 640x480 with 1 Axes>"
      ]
     },
     "metadata": {},
     "output_type": "display_data"
    }
   ],
   "source": [
    "train_sizes = [.1, .2, .3, .4, .5, .6, .7, .8, .9, 1.0]\n",
    "clf = DecisionTreeClassifier(random_state=0, ccp_alpha=.0026)\n",
    "#clf.fit(X_train, y_train)\n",
    "#roc_auc_score(y_test, clf.predict(X_test))\n",
    "\n",
    "train_sizes, train_scores, test_scores = learning_curve(clf, X, y, train_sizes=train_sizes, scoring='roc_auc')\n",
    "\n",
    "plt.plot(train_sizes, test_scores.mean(axis=1))\n",
    "plt.xlabel(\"Data Points\")\n",
    "plt.ylabel(\"Validation Score\")\n",
    "plt.title(\"Learning Curve, Mushrooms\")\n",
    "\n",
    "#plt.savefig(\"decision_tree_learn_curve_coke.png\")"
   ]
  },
  {
   "cell_type": "code",
   "execution_count": 1200,
   "id": "4f9c55c2",
   "metadata": {},
   "outputs": [
    {
     "name": "stdout",
     "output_type": "stream",
     "text": [
      "Max Depth: 1, ROC-AUC: 0.6704611923509562\n",
      "Max Depth: 2, ROC-AUC: 0.6737682789651294\n",
      "Max Depth: 3, ROC-AUC: 0.6785826771653544\n",
      "Max Depth: 4, ROC-AUC: 0.6737682789651294\n",
      "Max Depth: 5, ROC-AUC: 0.6282339707536557\n",
      "Max Depth: 6, ROC-AUC: 0.6458492688413948\n",
      "Max Depth: 8, ROC-AUC: 0.6127784026996625\n",
      "Max Depth: 10, ROC-AUC: 0.5476040494938132\n"
     ]
    },
    {
     "data": {
      "text/plain": [
       "Text(0.5, 1.0, 'Decision Tree Max Depth vs Validation ROC-AUC, Coke')"
      ]
     },
     "execution_count": 1200,
     "metadata": {},
     "output_type": "execute_result"
    },
    {
     "data": {
      "image/png": "[encoded data removed]",
      "text/plain": [
       "<Figure size 640x480 with 1 Axes>"
      ]
     },
     "metadata": {},
     "output_type": "display_data"
    }
   ],
   "source": [
    "# get pruning graphs and learning curves for both cocaine and mushroom problems. \n",
    "# get graphs for max_depth too\n",
    "max_depths = [1, 2, 3, 4, 5, 6, 8, 10]\n",
    "scores = []\n",
    "\n",
    "for depth in max_depths:\n",
    "    clf = DecisionTreeClassifier(random_state=0, max_depth = depth)\n",
    "    clf.fit(X_train, y_train)\n",
    "    roc_auc = roc_auc_score(y_valid, clf.predict_proba(X_valid)[:, 1])\n",
    "    print(f\"Max Depth: {depth}, ROC-AUC: {roc_auc}\")\n",
    "    scores.append(roc_auc)\n",
    "\n",
    "plt.plot(max_depths, scores)\n",
    "plt.xlabel(\"Max Depth\")\n",
    "plt.ylabel(\"ROC-AUC\")\n",
    "plt.title(\"Decision Tree Max Depth vs Validation ROC-AUC, Coke\")\n",
    "#plt.savefig(\"decision_tree_max_depth_coke.png\")"
   ]
  },
  {
   "cell_type": "code",
   "execution_count": 1607,
   "id": "2c517a40",
   "metadata": {},
   "outputs": [
    {
     "name": "stderr",
     "output_type": "stream",
     "text": [
      "/opt/homebrew/Caskroom/miniconda/base/envs/holford/lib/python3.11/site-packages/sklearn/model_selection/_validation.py:824: UserWarning: Scoring failed. The score on this train-test partition for these parameters will be set to nan. Details: \n",
      "Traceback (most recent call last):\n",
      "  File \"/opt/homebrew/Caskroom/miniconda/base/envs/holford/lib/python3.11/site-packages/sklearn/metrics/_scorer.py\", line 459, in _score\n",
      "    y_pred = method_caller(clf, \"decision_function\", X, pos_label=pos_label)\n",
      "             ^^^^^^^^^^^^^^^^^^^^^^^^^^^^^^^^^^^^^^^^^^^^^^^^^^^^^^^^^^^^^^^\n",
      "  File \"/opt/homebrew/Caskroom/miniconda/base/envs/holford/lib/python3.11/site-packages/sklearn/metrics/_scorer.py\", line 86, in _cached_call\n",
      "    result, _ = _get_response_values(\n",
      "                ^^^^^^^^^^^^^^^^^^^^^\n",
      "  File \"/opt/homebrew/Caskroom/miniconda/base/envs/holford/lib/python3.11/site-packages/sklearn/utils/_response.py\", line 73, in _get_response_values\n",
      "    prediction_method = _check_response_method(estimator, response_method)\n",
      "                        ^^^^^^^^^^^^^^^^^^^^^^^^^^^^^^^^^^^^^^^^^^^^^^^^^^\n",
      "  File \"/opt/homebrew/Caskroom/miniconda/base/envs/holford/lib/python3.11/site-packages/sklearn/utils/validation.py\", line 1940, in _check_response_method\n",
      "    raise AttributeError(\n",
      "AttributeError: DecisionTreeClassifier has none of the following attributes: decision_function.\n",
      "\n",
      "During handling of the above exception, another exception occurred:\n",
      "\n",
      "Traceback (most recent call last):\n",
      "  File \"/opt/homebrew/Caskroom/miniconda/base/envs/holford/lib/python3.11/site-packages/sklearn/model_selection/_validation.py\", line 813, in _score\n",
      "    scores = scorer(estimator, X_test, y_test)\n",
      "             ^^^^^^^^^^^^^^^^^^^^^^^^^^^^^^^^^\n",
      "  File \"/opt/homebrew/Caskroom/miniconda/base/envs/holford/lib/python3.11/site-packages/sklearn/metrics/_scorer.py\", line 266, in __call__\n",
      "    return self._score(partial(_cached_call, None), estimator, X, y_true, **_kwargs)\n",
      "           ^^^^^^^^^^^^^^^^^^^^^^^^^^^^^^^^^^^^^^^^^^^^^^^^^^^^^^^^^^^^^^^^^^^^^^^^^\n",
      "  File \"/opt/homebrew/Caskroom/miniconda/base/envs/holford/lib/python3.11/site-packages/sklearn/metrics/_scorer.py\", line 466, in _score\n",
      "    y_pred = method_caller(clf, \"predict_proba\", X, pos_label=pos_label)\n",
      "             ^^^^^^^^^^^^^^^^^^^^^^^^^^^^^^^^^^^^^^^^^^^^^^^^^^^^^^^^^^^\n",
      "  File \"/opt/homebrew/Caskroom/miniconda/base/envs/holford/lib/python3.11/site-packages/sklearn/metrics/_scorer.py\", line 86, in _cached_call\n",
      "    result, _ = _get_response_values(\n",
      "                ^^^^^^^^^^^^^^^^^^^^^\n",
      "  File \"/opt/homebrew/Caskroom/miniconda/base/envs/holford/lib/python3.11/site-packages/sklearn/utils/_response.py\", line 96, in _get_response_values\n",
      "    raise ValueError(err_msg)\n",
      "ValueError: Got predict_proba of shape (377, 1), but need classifier with two classes.\n",
      "\n",
      "  warnings.warn(\n",
      "/opt/homebrew/Caskroom/miniconda/base/envs/holford/lib/python3.11/site-packages/sklearn/model_selection/_validation.py:824: UserWarning: Scoring failed. The score on this train-test partition for these parameters will be set to nan. Details: \n",
      "Traceback (most recent call last):\n",
      "  File \"/opt/homebrew/Caskroom/miniconda/base/envs/holford/lib/python3.11/site-packages/sklearn/metrics/_scorer.py\", line 459, in _score\n",
      "    y_pred = method_caller(clf, \"decision_function\", X, pos_label=pos_label)\n",
      "             ^^^^^^^^^^^^^^^^^^^^^^^^^^^^^^^^^^^^^^^^^^^^^^^^^^^^^^^^^^^^^^^\n",
      "  File \"/opt/homebrew/Caskroom/miniconda/base/envs/holford/lib/python3.11/site-packages/sklearn/metrics/_scorer.py\", line 86, in _cached_call\n",
      "    result, _ = _get_response_values(\n",
      "                ^^^^^^^^^^^^^^^^^^^^^\n",
      "  File \"/opt/homebrew/Caskroom/miniconda/base/envs/holford/lib/python3.11/site-packages/sklearn/utils/_response.py\", line 73, in _get_response_values\n",
      "    prediction_method = _check_response_method(estimator, response_method)\n",
      "                        ^^^^^^^^^^^^^^^^^^^^^^^^^^^^^^^^^^^^^^^^^^^^^^^^^^\n",
      "  File \"/opt/homebrew/Caskroom/miniconda/base/envs/holford/lib/python3.11/site-packages/sklearn/utils/validation.py\", line 1940, in _check_response_method\n",
      "    raise AttributeError(\n",
      "AttributeError: DecisionTreeClassifier has none of the following attributes: decision_function.\n",
      "\n",
      "During handling of the above exception, another exception occurred:\n",
      "\n",
      "Traceback (most recent call last):\n",
      "  File \"/opt/homebrew/Caskroom/miniconda/base/envs/holford/lib/python3.11/site-packages/sklearn/model_selection/_validation.py\", line 813, in _score\n",
      "    scores = scorer(estimator, X_test, y_test)\n",
      "             ^^^^^^^^^^^^^^^^^^^^^^^^^^^^^^^^^\n",
      "  File \"/opt/homebrew/Caskroom/miniconda/base/envs/holford/lib/python3.11/site-packages/sklearn/metrics/_scorer.py\", line 266, in __call__\n",
      "    return self._score(partial(_cached_call, None), estimator, X, y_true, **_kwargs)\n",
      "           ^^^^^^^^^^^^^^^^^^^^^^^^^^^^^^^^^^^^^^^^^^^^^^^^^^^^^^^^^^^^^^^^^^^^^^^^^\n",
      "  File \"/opt/homebrew/Caskroom/miniconda/base/envs/holford/lib/python3.11/site-packages/sklearn/metrics/_scorer.py\", line 466, in _score\n",
      "    y_pred = method_caller(clf, \"predict_proba\", X, pos_label=pos_label)\n",
      "             ^^^^^^^^^^^^^^^^^^^^^^^^^^^^^^^^^^^^^^^^^^^^^^^^^^^^^^^^^^^\n",
      "  File \"/opt/homebrew/Caskroom/miniconda/base/envs/holford/lib/python3.11/site-packages/sklearn/metrics/_scorer.py\", line 86, in _cached_call\n",
      "    result, _ = _get_response_values(\n",
      "                ^^^^^^^^^^^^^^^^^^^^^\n",
      "  File \"/opt/homebrew/Caskroom/miniconda/base/envs/holford/lib/python3.11/site-packages/sklearn/utils/_response.py\", line 96, in _get_response_values\n",
      "    raise ValueError(err_msg)\n",
      "ValueError: Got predict_proba of shape (150, 1), but need classifier with two classes.\n",
      "\n",
      "  warnings.warn(\n"
     ]
    },
    {
     "data": {
      "image/png": "[encoded data removed]",
      "text/plain": [
       "<Figure size 640x480 with 1 Axes>"
      ]
     },
     "metadata": {},
     "output_type": "display_data"
    }
   ],
   "source": [
    "clf = DecisionTreeClassifier(random_state=0, ccp_alpha=.0026)\n",
    "\n",
    "train_sizes, train_scores, test_scores = learning_curve(clf, X, y, scoring='roc_auc')\n",
    "plt.plot(train_sizes, train_scores.mean(axis=1))\n",
    "plt.xlabel(\"Data Points\")\n",
    "plt.ylabel(\"Train Score\")\n",
    "plt.title(\"Learning Curve, Mushrooms\")\n",
    "\n",
    "plt.savefig(\"decision_tree_train_curve_mushrooms.png\")"
   ]
  },
  {
   "cell_type": "code",
   "execution_count": 1217,
   "id": "8ee7d48f",
   "metadata": {},
   "outputs": [
    {
     "name": "stdout",
     "output_type": "stream",
     "text": [
      "0.800845016324179\n",
      "Runtime: 0.007638692855834961\n",
      "15\n"
     ]
    }
   ],
   "source": [
    "clf = DecisionTreeClassifier(random_state=0, max_depth = 3)\n",
    "start = time.time()\n",
    "clf.fit(X_train, y_train)\n",
    "end = time.time()\n",
    "runtime = end - start\n",
    "roc_auc = roc_auc_score(y_test, clf.predict_proba(X_test)[:, 1])\n",
    "print(roc_auc)\n",
    "print(f\"Runtime: {runtime}\")\n",
    "print(clf.tree_.node_count)"
   ]
  },
  {
   "cell_type": "code",
   "execution_count": 1240,
   "id": "1cb5e268",
   "metadata": {},
   "outputs": [
    {
     "name": "stdout",
     "output_type": "stream",
     "text": [
      "[0.7589782984444018, 0.7999807950835414]\n"
     ]
    }
   ],
   "source": [
    "# early stopping experiment\n",
    "scores=[]\n",
    "\n",
    "train_sizes = [200, 400]\n",
    "\n",
    "max_depths = [1, 2, 3, 4, 5, 6, 8, 10]\n",
    "\n",
    "\n",
    "for size in train_sizes:\n",
    "    \n",
    "    best_score = 0\n",
    "    \n",
    "    for depth in max_depths:\n",
    "        \n",
    "        clf = DecisionTreeClassifier(random_state=0, max_depth = depth)\n",
    "\n",
    "        clf.fit(X_train[:size], y_train[:size])\n",
    "        valid_score = roc_auc_score(y_valid, clf.predict_proba(X_valid)[:, 1])\n",
    "        if valid_score > best_score:\n",
    "            best_score = valid_score\n",
    "            best_depth = depth\n",
    "            \n",
    "    \n",
    "    clf = DecisionTreeClassifier(random_state=0, max_depth = best_depth)\n",
    "    clf.fit(X_train[:size], y_train[:size])\n",
    "\n",
    "    \n",
    "    scores.append(roc_auc_score(y_test, clf.predict_proba(X_test)[:, 1]))\n",
    "\n",
    "\n",
    "print(scores)"
   ]
  },
  {
   "cell_type": "code",
   "execution_count": 1238,
   "id": "e42f3d35",
   "metadata": {},
   "outputs": [
    {
     "name": "stdout",
     "output_type": "stream",
     "text": [
      "[0.6925452915946482, 0.6602810319441776]\n"
     ]
    }
   ],
   "source": [
    "alphas = np.arange(0, .0035, .0005)\n",
    "\n",
    "scores=[]\n",
    "\n",
    "train_sizes = [200, 400]\n",
    "\n",
    "\n",
    "for size in train_sizes:\n",
    "    \n",
    "    best_score = 0\n",
    "    \n",
    "    for alpha in alphas:\n",
    "        \n",
    "        clf = DecisionTreeClassifier(random_state=0, ccp_alpha = alpha)\n",
    "\n",
    "        clf.fit(X_train[:size], y_train[:size])\n",
    "        valid_score = roc_auc_score(y_valid, clf.predict_proba(X_valid)[:, 1])\n",
    "        if valid_score > best_score:\n",
    "            best_score = valid_score\n",
    "            best_alpha = alpha\n",
    "    \n",
    "    clf = DecisionTreeClassifier(random_state=0, ccp_alpha=best_alpha)\n",
    "    clf.fit(X_train[:size], y_train[:size])\n",
    "\n",
    "    \n",
    "    scores.append(roc_auc_score(y_test, clf.predict_proba(X_test)[:, 1]))\n",
    "\n",
    "\n",
    "print(scores)"
   ]
  },
  {
   "cell_type": "markdown",
   "id": "0b14162c",
   "metadata": {},
   "source": [
    "### Neural Network"
   ]
  },
  {
   "cell_type": "code",
   "execution_count": 155,
   "id": "c174ffd2",
   "metadata": {},
   "outputs": [],
   "source": [
    "import torch\n",
    "from torch import nn\n",
    "from torch.utils.data import DataLoader\n",
    "from torchvision import datasets, transforms\n",
    "from torch.utils.data import Dataset, DataLoader"
   ]
  },
  {
   "cell_type": "code",
   "execution_count": 1361,
   "id": "425a9a01",
   "metadata": {},
   "outputs": [],
   "source": [
    "#define classification problems: semeron consumption, heroin consumption\n",
    "\n",
    "X = df[['Age', 'Gender', 'NScore', 'Escore', 'Oscore', 'Ascore', 'Cscore', 'Impulsive', 'SS', 'Country_Australia', 'Country_Canada',\n",
    "       'Country_Ireland', 'Country_New Zealand', 'Country_Other', 'Country_UK',\n",
    "       'Country_USA', 'Ethnicity_Asian', 'Ethnicity_Black', 'Ethnicity_Black/Asian', 'Ethnicity_Other', \n",
    "        'Ethnicity_White', 'Ethnicity_White/Asian', 'Ethnicity_White/Black']]\n",
    "\n",
    "y = df['Mushrooms']"
   ]
  },
  {
   "cell_type": "code",
   "execution_count": 229,
   "id": "6b74d8c0",
   "metadata": {},
   "outputs": [],
   "source": [
    "'''\n",
    "\n",
    "Class rebalancing\n",
    "\n",
    "from imblearn.over_sampling import SMOTE\n",
    "sm = SMOTE(random_state = 2)\n",
    "\n",
    "X_train, X_test, y_train, y_test = train_test_split(X.to_numpy(), y.to_numpy(), test_size=.2, random_state=0)\n",
    "\n",
    "X_train_res, y_train_res = sm.fit_resample(X_train, y_train.ravel())\n",
    "'''"
   ]
  },
  {
   "cell_type": "code",
   "execution_count": 157,
   "id": "05ef80ab",
   "metadata": {},
   "outputs": [
    {
     "name": "stdout",
     "output_type": "stream",
     "text": [
      "Using mps device\n"
     ]
    }
   ],
   "source": [
    "device = (\n",
    "    \"cuda\"\n",
    "    if torch.cuda.is_available()\n",
    "    else \"mps\"\n",
    "    if torch.backends.mps.is_available()\n",
    "    else \"cpu\"\n",
    ")\n",
    "print(f\"Using {device} device\")"
   ]
  },
  {
   "cell_type": "code",
   "execution_count": 1287,
   "id": "0a705356",
   "metadata": {},
   "outputs": [],
   "source": [
    "class Data(Dataset):\n",
    "    def __init__(self, X, y):\n",
    "        self.X = torch.from_numpy(X.astype(np.float32))\n",
    "        self.y = torch.from_numpy(y.astype(np.float32))\n",
    "        self.len = self.X.shape[0]\n",
    "       \n",
    "    def __getitem__(self, index):\n",
    "        return self.X[index], self.y[index]\n",
    "   \n",
    "    def __len__(self):\n",
    "        return self.len\n",
    "\n",
    "\n",
    "def load_data(X, y, batch_size):\n",
    "\n",
    "    X_train, X_test, y_train, y_test = train_test_split(X.to_numpy(), y.to_numpy(), test_size=.2, random_state=0)\n",
    "    \n",
    "    X_train, X_valid, y_train, y_valid = train_test_split(X_train, y_train, test_size=.2, random_state=0)\n",
    "\n",
    "\n",
    "    train_data = Data(X_train, y_train)\n",
    "    train_dataloader = DataLoader(dataset=train_data, batch_size=batch_size, shuffle=True)\n",
    "    \n",
    "    valid_data = Data(X_valid, y_valid)\n",
    "    valid_dataloader = DataLoader(dataset=valid_data, batch_size=batch_size, shuffle=True)\n",
    "\n",
    "    test_data = Data(X_test, y_test)\n",
    "    test_dataloader = DataLoader(dataset=test_data, batch_size=batch_size, shuffle=True)\n",
    "    \n",
    "    return train_dataloader, valid_dataloader, test_dataloader\n"
   ]
  },
  {
   "cell_type": "code",
   "execution_count": null,
   "id": "1867fbf1",
   "metadata": {},
   "outputs": [],
   "source": []
  },
  {
   "cell_type": "code",
   "execution_count": 1288,
   "id": "9c117073",
   "metadata": {},
   "outputs": [],
   "source": [
    "def initialize_network(width, learning_rate, decay):\n",
    "    input_dim = 23\n",
    "    hidden_dim_1 = width\n",
    "    hidden_dim_2 = width\n",
    "    output_dim = 1\n",
    "        \n",
    "    loss_fn = nn.BCELoss()\n",
    "\n",
    "    class NeuralNetwork(nn.Module):\n",
    "        def __init__(self, input_dim, hidden_dim, output_dim):\n",
    "            super(NeuralNetwork, self).__init__()\n",
    "            self.layer_1 = nn.Linear(input_dim, hidden_dim)\n",
    "            nn.init.kaiming_uniform_(self.layer_1.weight, nonlinearity=\"relu\")\n",
    "            self.layer_2 = nn.Linear(hidden_dim, hidden_dim)\n",
    "            nn.init.kaiming_uniform_(self.layer_2.weight, nonlinearity=\"relu\")\n",
    "            self.layer_3 = nn.Linear(hidden_dim, output_dim)\n",
    "\n",
    "        \n",
    "        \n",
    "\n",
    "       \n",
    "        def forward(self, x):\n",
    "            x = torch.nn.functional.relu(self.layer_1(x))\n",
    "            x = torch.nn.functional.relu(self.layer_2(x))\n",
    "\n",
    "\n",
    "            x = torch.nn.functional.sigmoid(self.layer_3(x))\n",
    "\n",
    "            return x\n",
    "\n",
    "    model = NeuralNetwork(input_dim, hidden_dim_1, output_dim)\n",
    "    \n",
    "    optimizer = torch.optim.Adam(model.parameters(), lr=learning_rate, weight_decay=decay)\n",
    "    \n",
    "    return model, optimizer\n",
    "    \n",
    "    "
   ]
  },
  {
   "cell_type": "code",
   "execution_count": 1340,
   "id": "f86fb069",
   "metadata": {},
   "outputs": [
    {
     "name": "stdout",
     "output_type": "stream",
     "text": [
      "Training Complete\n"
     ]
    }
   ],
   "source": [
    "from sklearn.metrics import roc_auc_score\n",
    "\n",
    "def train_model(model, optimizer, num_epochs, X, y):\n",
    "    \n",
    "    # takes model optimizer and num_epochs as inputs, trains network\n",
    "    # and saves the learning curves\n",
    "    \n",
    "    \n",
    "\n",
    "    loss_values = []\n",
    "    train_roc_aucs = []\n",
    "    valid_roc_aucs = []\n",
    "\n",
    "\n",
    "    best_auc = 0\n",
    "    stop_counter = 0\n",
    "    \n",
    "    train_dataloader, valid_dataloader, test_dataloader = load_data(X, y, batch_size=32)\n",
    "\n",
    "    for epoch in range(num_epochs):\n",
    "    \n",
    "        if stop_counter >= 10:\n",
    "            break\n",
    "    \n",
    "        train_y_pred = []\n",
    "        train_y = []\n",
    "    \n",
    "        for X, y in train_dataloader:\n",
    "            # zero the parameter gradients\n",
    "            optimizer.zero_grad()\n",
    "       \n",
    "            # forward + backward + optimize\n",
    "            pred = model(X)\n",
    "            loss = loss_fn(pred, y.unsqueeze(-1))\n",
    "            loss_values.append(loss.item())\n",
    "        \n",
    "        \n",
    "        \n",
    "        \n",
    "            loss.backward()\n",
    "            optimizer.step()\n",
    "            \n",
    "            pred = pred.detach().numpy()\n",
    "            train_y_pred += pred.tolist()\n",
    "            train_y += y.detach().numpy().tolist()\n",
    "        \n",
    "    \n",
    "        train_y_pred = np.array(train_y_pred)\n",
    "        train_y = np.array(train_y)\n",
    "    \n",
    "        train_roc_auc = roc_auc_score(train_y, train_y_pred)\n",
    "        train_roc_aucs.append(train_roc_auc)\n",
    "        \n",
    "    \n",
    "        valid_y_pred = []\n",
    "        valid_y = []\n",
    "    \n",
    "        with torch.no_grad():\n",
    "    \n",
    "            for X, y in valid_dataloader:\n",
    "        \n",
    "                pred = model(X).float()\n",
    "                pred = list(itertools.chain(*pred))\n",
    "                valid_y_pred += pred\n",
    "                valid_y += list(y)\n",
    "    \n",
    "            valid_y_pred = np.array(valid_y_pred)\n",
    "            valid_y = np.array(valid_y)\n",
    "    \n",
    "            valid_roc_auc = roc_auc_score(valid_y, valid_y_pred)\n",
    "            valid_roc_aucs.append(valid_roc_auc)\n",
    "        \n",
    "            if valid_roc_auc > best_auc:\n",
    "                torch.save(model.state_dict(), 'model_weights.pth')\n",
    "                best_auc = valid_roc_auc\n",
    "                stop_counter = 0\n",
    "            else:\n",
    "                stop_counter += 1\n",
    "                \n",
    "    print(\"Training complete\")\n",
    "    \n",
    "    #load best-performing model \n",
    "    \n",
    "    model.load_state_dict(torch.load('model_weights.pth'))\n",
    "    \n",
    "    \n",
    "    step = np.linspace(0, len(valid_roc_aucs), len(valid_roc_aucs))\n",
    "    \n",
    "    # generate and save learning curves\n",
    "    \n",
    "    best_auc_index = np.argmax(np.array(valid_roc_aucs))\n",
    "    \n",
    "    best_auc = valid_roc_aucs[best_auc_index]\n",
    "\n",
    "    fig, ax = plt.subplots(figsize=(8,5))\n",
    "    plt.plot(step, np.array(valid_roc_aucs))\n",
    "    plt.title(\"Step-wise Validation ROC-AUC\")\n",
    "    plt.xlabel(\"Epochs\")\n",
    "    plt.ylabel(\"ROC-AUC\")\n",
    "    plt.ylim((.65, .85))\n",
    "    \n",
    "    \n",
    "    ax.annotate(f\"Best ROC-AUC: {round(best_auc, 3)}\", xy=(best_auc_index, best_auc), \n",
    "                xytext=(best_auc_index, best_auc - .03), arrowprops=dict(facecolor='black', shrink=0.05))\n",
    "                \n",
    "    \n",
    "    #plt.savefig('validation_learning_curve.png')\n",
    "    plt.clf()\n",
    "    fig, ax = plt.subplots(figsize=(8,5))\n",
    "    plt.plot(step, np.array(train_roc_aucs))\n",
    "    plt.title(\"Step-wise Training ROC-AUC\")\n",
    "    plt.xlabel(\"Epochs\")\n",
    "    plt.ylabel(\"ROC-AUC\")\n",
    "    plt.ylim((.5, 1.0))\n",
    "    #plt.savefig(\"train_learning_curve.png\")\n",
    "    plt.close()\n",
    "    \n",
    "    \n",
    "    #get test performance\n",
    "    \n",
    "    with torch.no_grad():\n",
    "        \n",
    "        test_y_pred = []\n",
    "        test_y = []\n",
    "    \n",
    "        for X, y in test_dataloader:\n",
    "        \n",
    "            pred = model(X).float()\n",
    "            pred = list(itertools.chain(*pred))\n",
    "            test_y_pred += pred\n",
    "            test_y += list(y)\n",
    "    \n",
    "        test_y_pred = np.array(test_y_pred)\n",
    "        test_y = np.array(test_y)\n",
    "    \n",
    "        test_roc_auc = roc_auc_score(test_y, test_y_pred)\n",
    "\n",
    "    return train_roc_aucs, best_auc, test_roc_auc\n",
    "    \n",
    "            \n",
    "            \n",
    "    \n",
    "    \n",
    "        \n",
    "# maybe get accuracy or roc-auc score at every step, on both training and test\n",
    "# definitely roc-auc score\n",
    "\n",
    "print(\"Training Complete\")"
   ]
  },
  {
   "cell_type": "code",
   "execution_count": null,
   "id": "4da670d8",
   "metadata": {},
   "outputs": [],
   "source": [
    "#next: run \n",
    "\n"
   ]
  },
  {
   "cell_type": "code",
   "execution_count": 1362,
   "id": "27f254ce",
   "metadata": {},
   "outputs": [
    {
     "name": "stdout",
     "output_type": "stream",
     "text": [
      "Training complete\n",
      "torch.float32\n",
      "Training complete\n",
      "torch.float32\n",
      "Training complete\n",
      "torch.float32\n",
      "Training complete\n",
      "torch.float32\n"
     ]
    },
    {
     "data": {
      "text/plain": [
       "<Figure size 800x500 with 0 Axes>"
      ]
     },
     "metadata": {},
     "output_type": "display_data"
    },
    {
     "data": {
      "text/plain": [
       "<Figure size 800x500 with 0 Axes>"
      ]
     },
     "metadata": {},
     "output_type": "display_data"
    },
    {
     "data": {
      "text/plain": [
       "<Figure size 800x500 with 0 Axes>"
      ]
     },
     "metadata": {},
     "output_type": "display_data"
    },
    {
     "data": {
      "image/png": "[encoded data removed]",
      "text/plain": [
       "<Figure size 800x500 with 1 Axes>"
      ]
     },
     "metadata": {},
     "output_type": "display_data"
    }
   ],
   "source": [
    "model, optimizer = initialize_network(learning_rate = .1, width=128, decay=.001)\n",
    "\n",
    "\n",
    "train_sizes = [.25, .5, .75, 1.0]\n",
    "\n",
    "train_sizes = [int(size * len(X)) for size in train_sizes]\n",
    "\n",
    "test_scores = []\n",
    "train_scores = []\n",
    "\n",
    "X_train, X_test, y_train, y_test = train_test_split(X.to_numpy(), y.to_numpy(), test_size=.2, random_state=0)\n",
    "\n",
    "X_test = torch.from_numpy(X_test).float()\n",
    "\n",
    "for size in train_sizes:\n",
    "    model, optimizer = initialize_network(learning_rate = .1, width=128, decay=.001)\n",
    "    train_roc_aucs, best_auc, _ = train_model(model, optimizer, 100, X[:size], y[:size])\n",
    "    train_score = train_roc_aucs[-1]\n",
    "    \n",
    "    \n",
    "    print(X_test.dtype)\n",
    "    with torch.no_grad():\n",
    "        y_pred = np.array(model(X_test))\n",
    "    test_scores.append(roc_auc_score(y_test, y_pred))\n",
    "    train_scores.append(train_score)\n",
    "\n",
    "\n",
    "\n",
    "train_sizes = [size * .64 for size in train_sizes]\n",
    "plt.plot(train_sizes, test_scores)\n",
    "plt.xlabel(\"Training Datapoints\")\n",
    "plt.ylabel(\"Test Score\")\n",
    "plt.title(\"Datapoints vs. Test Performance for Mushroom Problem\")\n",
    "plt.ylim(.65, .95)\n",
    "plt.savefig(\"nn_mushroom_datapoints_test.png\")\n",
    "\n",
    "# 150, 300, 500, 1000, 1500"
   ]
  },
  {
   "cell_type": "code",
   "execution_count": 1314,
   "id": "e1107234",
   "metadata": {},
   "outputs": [],
   "source": [
    "import os\n",
    "\n",
    "def run_network_exp(hyper_params: dict, outfolder: str):\n",
    "    \"\"\" run the experiments automatically and save all results \"\"\"\n",
    "    pwd = os.getcwd()\n",
    "        \n",
    "    best_score = 0\n",
    "    best_params = \"\"\n",
    "    \n",
    "    summary = \"\"\n",
    "    \n",
    "    exp_data = []\n",
    "    \n",
    "    for learn_rate in hyper_params['learning_rate']:\n",
    "        for layer_width in hyper_params['width']:\n",
    "            for decay in hyper_params['weight_decay']:\n",
    "                outdir = f\"{pwd}/{outfolder}/nn_learning_rate_{learn_rate}_width_{layer_width}_decay_{decay}\"\n",
    "                cmd = f\"mkdir -p {outdir}\"\n",
    "                os.system(cmd)\n",
    "            \n",
    "                model, optimizer = initialize_network(layer_width, learn_rate, decay)\n",
    "                \n",
    "                start = time.time()\n",
    "                valid_score, test_score = train_model(model, optimizer, 100, X, y)\n",
    "                end = time.time()\n",
    "                \n",
    "                runtime = end - start\n",
    "                \n",
    "                with open(outdir + \"/runtime.txt\", \"w\") as f:\n",
    "                    f.write(\"(\" + str(runtime) + \" seconds)\")\n",
    "                \n",
    "                            \n",
    "                summary += f\"Learning Rate: {learn_rate}, Width: {layer_width}, Decay: {decay}, Score: {valid_score}, Runtime: {runtime}\\n\"\n",
    "                \n",
    "                exp_data.append({\"Learning Rate\": learn_rate, \"Width\": layer_width, \"Decay\": decay, \"Score\": valid_score, \"Runtime\": runtime})\n",
    "                \n",
    "                if valid_score > best_score:\n",
    "                    best_score = valid_score\n",
    "                    best_params = f\"Learning Rate: {learn_rate}, Width: {layer_width}, Decay: {decay}\"  \n",
    "                    best_network_test = test_score\n",
    "                    \n",
    "                cmd = f\"mv *.png {outdir}\"\n",
    "                os.system(cmd)\n",
    "\n",
    "    \n",
    "    summary += f\"\\nBest validation score: {best_score}\\n{best_params}\\n Test performance: {best_network_test}\"\n",
    "    \n",
    "    exp_dir = f\"{pwd}/{outfolder}/mushroom_problem_data.txt\"\n",
    "    with open(exp_dir, \"w\") as f:\n",
    "        f.write(summary)\n",
    "        \n",
    "    return exp_data"
   ]
  },
  {
   "cell_type": "code",
   "execution_count": 1338,
   "id": "1defb375",
   "metadata": {},
   "outputs": [
    {
     "name": "stdout",
     "output_type": "stream",
     "text": [
      "Training complete\n",
      "Training complete\n",
      "Training complete\n",
      "Training complete\n",
      "Training complete\n",
      "Training complete\n",
      "Training complete\n",
      "Training complete\n",
      "Training complete\n",
      "Training complete\n",
      "Training complete\n",
      "Training complete\n",
      "Training complete\n",
      "Training complete\n",
      "Training complete\n",
      "Training complete\n",
      "Training complete\n",
      "Training complete\n",
      "Training complete\n",
      "Training complete\n"
     ]
    },
    {
     "name": "stderr",
     "output_type": "stream",
     "text": [
      "/var/folders/yz/d4wch5zd2m1dl4j2c078zfnm0000gn/T/ipykernel_9369/2601319878.py:109: RuntimeWarning: More than 20 figures have been opened. Figures created through the pyplot interface (`matplotlib.pyplot.figure`) are retained until explicitly closed and may consume too much memory. (To control this warning, see the rcParam `figure.max_open_warning`). Consider using `matplotlib.pyplot.close()`.\n",
      "  fig, ax = plt.subplots(figsize=(8,5))\n"
     ]
    },
    {
     "name": "stdout",
     "output_type": "stream",
     "text": [
      "Training complete\n"
     ]
    },
    {
     "name": "stderr",
     "output_type": "stream",
     "text": [
      "/var/folders/yz/d4wch5zd2m1dl4j2c078zfnm0000gn/T/ipykernel_9369/2601319878.py:95: RuntimeWarning: More than 20 figures have been opened. Figures created through the pyplot interface (`matplotlib.pyplot.figure`) are retained until explicitly closed and may consume too much memory. (To control this warning, see the rcParam `figure.max_open_warning`). Consider using `matplotlib.pyplot.close()`.\n",
      "  fig, ax = plt.subplots(figsize=(8,5))\n"
     ]
    },
    {
     "name": "stdout",
     "output_type": "stream",
     "text": [
      "Training complete\n",
      "Training complete\n",
      "Training complete\n"
     ]
    },
    {
     "data": {
      "text/plain": [
       "<Figure size 800x500 with 0 Axes>"
      ]
     },
     "metadata": {},
     "output_type": "display_data"
    },
    {
     "data": {
      "text/plain": [
       "<Figure size 800x500 with 0 Axes>"
      ]
     },
     "metadata": {},
     "output_type": "display_data"
    },
    {
     "data": {
      "text/plain": [
       "<Figure size 800x500 with 0 Axes>"
      ]
     },
     "metadata": {},
     "output_type": "display_data"
    },
    {
     "data": {
      "text/plain": [
       "<Figure size 800x500 with 0 Axes>"
      ]
     },
     "metadata": {},
     "output_type": "display_data"
    },
    {
     "data": {
      "text/plain": [
       "<Figure size 800x500 with 0 Axes>"
      ]
     },
     "metadata": {},
     "output_type": "display_data"
    },
    {
     "data": {
      "text/plain": [
       "<Figure size 800x500 with 0 Axes>"
      ]
     },
     "metadata": {},
     "output_type": "display_data"
    },
    {
     "data": {
      "text/plain": [
       "<Figure size 800x500 with 0 Axes>"
      ]
     },
     "metadata": {},
     "output_type": "display_data"
    },
    {
     "data": {
      "text/plain": [
       "<Figure size 800x500 with 0 Axes>"
      ]
     },
     "metadata": {},
     "output_type": "display_data"
    },
    {
     "data": {
      "text/plain": [
       "<Figure size 800x500 with 0 Axes>"
      ]
     },
     "metadata": {},
     "output_type": "display_data"
    },
    {
     "data": {
      "text/plain": [
       "<Figure size 800x500 with 0 Axes>"
      ]
     },
     "metadata": {},
     "output_type": "display_data"
    },
    {
     "data": {
      "text/plain": [
       "<Figure size 800x500 with 0 Axes>"
      ]
     },
     "metadata": {},
     "output_type": "display_data"
    },
    {
     "data": {
      "text/plain": [
       "<Figure size 800x500 with 0 Axes>"
      ]
     },
     "metadata": {},
     "output_type": "display_data"
    },
    {
     "data": {
      "text/plain": [
       "<Figure size 800x500 with 0 Axes>"
      ]
     },
     "metadata": {},
     "output_type": "display_data"
    },
    {
     "data": {
      "text/plain": [
       "<Figure size 800x500 with 0 Axes>"
      ]
     },
     "metadata": {},
     "output_type": "display_data"
    },
    {
     "data": {
      "text/plain": [
       "<Figure size 800x500 with 0 Axes>"
      ]
     },
     "metadata": {},
     "output_type": "display_data"
    },
    {
     "data": {
      "text/plain": [
       "<Figure size 800x500 with 0 Axes>"
      ]
     },
     "metadata": {},
     "output_type": "display_data"
    },
    {
     "data": {
      "text/plain": [
       "<Figure size 800x500 with 0 Axes>"
      ]
     },
     "metadata": {},
     "output_type": "display_data"
    },
    {
     "data": {
      "text/plain": [
       "<Figure size 800x500 with 0 Axes>"
      ]
     },
     "metadata": {},
     "output_type": "display_data"
    },
    {
     "data": {
      "text/plain": [
       "<Figure size 800x500 with 0 Axes>"
      ]
     },
     "metadata": {},
     "output_type": "display_data"
    },
    {
     "data": {
      "text/plain": [
       "<Figure size 800x500 with 0 Axes>"
      ]
     },
     "metadata": {},
     "output_type": "display_data"
    },
    {
     "data": {
      "text/plain": [
       "<Figure size 800x500 with 0 Axes>"
      ]
     },
     "metadata": {},
     "output_type": "display_data"
    },
    {
     "data": {
      "text/plain": [
       "<Figure size 800x500 with 0 Axes>"
      ]
     },
     "metadata": {},
     "output_type": "display_data"
    },
    {
     "data": {
      "text/plain": [
       "<Figure size 800x500 with 0 Axes>"
      ]
     },
     "metadata": {},
     "output_type": "display_data"
    },
    {
     "data": {
      "text/plain": [
       "<Figure size 800x500 with 0 Axes>"
      ]
     },
     "metadata": {},
     "output_type": "display_data"
    }
   ],
   "source": [
    "params = {'width': [64, 128],\n",
    "          'learning_rate': [.01, .05, .1, 1],\n",
    "          'weight_decay': [1e-2, 1e-3, 1e-4]\n",
    "         }\n",
    "\n",
    "exp_data = run_network_exp(params, \"fake_experiment\")\n",
    "\n",
    "# want a pandas dataframe with experiment data"
   ]
  },
  {
   "cell_type": "code",
   "execution_count": 1325,
   "id": "26a38744",
   "metadata": {},
   "outputs": [
    {
     "data": {
      "text/html": [
       "<div>\n",
       "<style scoped>\n",
       "    .dataframe tbody tr th:only-of-type {\n",
       "        vertical-align: middle;\n",
       "    }\n",
       "\n",
       "    .dataframe tbody tr th {\n",
       "        vertical-align: top;\n",
       "    }\n",
       "\n",
       "    .dataframe thead th {\n",
       "        text-align: right;\n",
       "    }\n",
       "</style>\n",
       "<table border=\"1\" class=\"dataframe\">\n",
       "  <thead>\n",
       "    <tr style=\"text-align: right;\">\n",
       "      <th></th>\n",
       "      <th>Learning Rate</th>\n",
       "      <th>Width</th>\n",
       "      <th>Decay</th>\n",
       "      <th>Score</th>\n",
       "      <th>Runtime</th>\n",
       "    </tr>\n",
       "  </thead>\n",
       "  <tbody>\n",
       "    <tr>\n",
       "      <th>0</th>\n",
       "      <td>0.01</td>\n",
       "      <td>64</td>\n",
       "      <td>0.0100</td>\n",
       "      <td>0.722475</td>\n",
       "      <td>0.879020</td>\n",
       "    </tr>\n",
       "    <tr>\n",
       "      <th>1</th>\n",
       "      <td>0.01</td>\n",
       "      <td>64</td>\n",
       "      <td>0.0010</td>\n",
       "      <td>0.717075</td>\n",
       "      <td>0.377812</td>\n",
       "    </tr>\n",
       "    <tr>\n",
       "      <th>2</th>\n",
       "      <td>0.01</td>\n",
       "      <td>64</td>\n",
       "      <td>0.0001</td>\n",
       "      <td>0.698628</td>\n",
       "      <td>0.276074</td>\n",
       "    </tr>\n",
       "    <tr>\n",
       "      <th>3</th>\n",
       "      <td>0.01</td>\n",
       "      <td>128</td>\n",
       "      <td>0.0100</td>\n",
       "      <td>0.716040</td>\n",
       "      <td>0.535867</td>\n",
       "    </tr>\n",
       "    <tr>\n",
       "      <th>4</th>\n",
       "      <td>0.01</td>\n",
       "      <td>128</td>\n",
       "      <td>0.0010</td>\n",
       "      <td>0.713566</td>\n",
       "      <td>0.528891</td>\n",
       "    </tr>\n",
       "  </tbody>\n",
       "</table>\n",
       "</div>"
      ],
      "text/plain": [
       "   Learning Rate  Width   Decay     Score   Runtime\n",
       "0           0.01     64  0.0100  0.722475  0.879020\n",
       "1           0.01     64  0.0010  0.717075  0.377812\n",
       "2           0.01     64  0.0001  0.698628  0.276074\n",
       "3           0.01    128  0.0100  0.716040  0.535867\n",
       "4           0.01    128  0.0010  0.713566  0.528891"
      ]
     },
     "execution_count": 1325,
     "metadata": {},
     "output_type": "execute_result"
    }
   ],
   "source": [
    "exp_df = pd.DataFrame(exp_data)\n",
    "exp_df.head()"
   ]
  },
  {
   "cell_type": "code",
   "execution_count": 1609,
   "id": "b0035d52",
   "metadata": {},
   "outputs": [
    {
     "data": {
      "text/html": [
       "<div>\n",
       "<style scoped>\n",
       "    .dataframe tbody tr th:only-of-type {\n",
       "        vertical-align: middle;\n",
       "    }\n",
       "\n",
       "    .dataframe tbody tr th {\n",
       "        vertical-align: top;\n",
       "    }\n",
       "\n",
       "    .dataframe thead th {\n",
       "        text-align: right;\n",
       "    }\n",
       "</style>\n",
       "<table border=\"1\" class=\"dataframe\">\n",
       "  <thead>\n",
       "    <tr style=\"text-align: right;\">\n",
       "      <th></th>\n",
       "      <th></th>\n",
       "      <th>Score</th>\n",
       "    </tr>\n",
       "    <tr>\n",
       "      <th>Learning Rate</th>\n",
       "      <th>Width</th>\n",
       "      <th></th>\n",
       "    </tr>\n",
       "  </thead>\n",
       "  <tbody>\n",
       "    <tr>\n",
       "      <th rowspan=\"2\" valign=\"top\">0.01</th>\n",
       "      <th>64</th>\n",
       "      <td>0.712726</td>\n",
       "    </tr>\n",
       "    <tr>\n",
       "      <th>128</th>\n",
       "      <td>0.717900</td>\n",
       "    </tr>\n",
       "    <tr>\n",
       "      <th rowspan=\"2\" valign=\"top\">0.05</th>\n",
       "      <th>64</th>\n",
       "      <td>0.720885</td>\n",
       "    </tr>\n",
       "    <tr>\n",
       "      <th>128</th>\n",
       "      <td>0.723532</td>\n",
       "    </tr>\n",
       "    <tr>\n",
       "      <th rowspan=\"2\" valign=\"top\">0.10</th>\n",
       "      <th>64</th>\n",
       "      <td>0.716243</td>\n",
       "    </tr>\n",
       "    <tr>\n",
       "      <th>128</th>\n",
       "      <td>0.708346</td>\n",
       "    </tr>\n",
       "    <tr>\n",
       "      <th rowspan=\"2\" valign=\"top\">1.00</th>\n",
       "      <th>64</th>\n",
       "      <td>0.560555</td>\n",
       "    </tr>\n",
       "    <tr>\n",
       "      <th>128</th>\n",
       "      <td>0.526007</td>\n",
       "    </tr>\n",
       "  </tbody>\n",
       "</table>\n",
       "</div>"
      ],
      "text/plain": [
       "                        Score\n",
       "Learning Rate Width          \n",
       "0.01          64     0.712726\n",
       "              128    0.717900\n",
       "0.05          64     0.720885\n",
       "              128    0.723532\n",
       "0.10          64     0.716243\n",
       "              128    0.708346\n",
       "1.00          64     0.560555\n",
       "              128    0.526007"
      ]
     },
     "execution_count": 1609,
     "metadata": {},
     "output_type": "execute_result"
    }
   ],
   "source": [
    "exp_df.groupby([\"Learning Rate\", \"Width\"])[['Score']].agg(\"mean\")"
   ]
  },
  {
   "cell_type": "markdown",
   "id": "a6cb5110",
   "metadata": {},
   "source": [
    "### Boosting"
   ]
  },
  {
   "cell_type": "code",
   "execution_count": 1460,
   "id": "b9bb3897",
   "metadata": {},
   "outputs": [
    {
     "name": "stdout",
     "output_type": "stream",
     "text": [
      "{'learning_rate': 0.05, 'n_estimators': 150}\n",
      "0.8369346955173059\n",
      "0.8429357915626401\n"
     ]
    }
   ],
   "source": [
    "from sklearn.ensemble import AdaBoostClassifier\n",
    "\n",
    "ada = AdaBoostClassifier()\n",
    "\n",
    "param_grid = {'n_estimators': [10, 20, 50, 75, 100, 150, 200],\n",
    "             'learning_rate': [.01, .05, .1, .5, 1]}\n",
    "\n",
    "clf = GridSearchCV(ada, param_grid, cv=5, scoring='roc_auc', return_train_score=True)\n",
    "\n",
    "X = df[['Age', 'Gender', 'NScore', 'Escore', 'Oscore', 'Ascore', 'Cscore', 'Impulsive', 'SS', 'Country_Australia', 'Country_Canada',\n",
    "      'Country_Ireland', 'Country_New Zealand', 'Country_Other', 'Country_UK',\n",
    "        'Country_USA', 'Ethnicity_Asian', 'Ethnicity_Black', 'Ethnicity_Black/Asian', 'Ethnicity_Other', \n",
    "        'Ethnicity_White', 'Ethnicity_White/Asian', 'Ethnicity_White/Black']]\n",
    "\n",
    "y = df['Mushrooms']\n",
    "\n",
    "X_train, X_test, y_train, y_test = train_test_split(X, y, test_size=.2, random_state=0)\n",
    "\n",
    "clf.fit(X_train, y_train)\n",
    "\n",
    "print(clf.best_params_)\n",
    "print(clf.best_score_)\n",
    "best_ada = clf.best_estimator_\n",
    "\n",
    "#classification problems: Coke and Mushrooms\n",
    "print(roc_auc_score(y_test, best_ada.predict_proba(X_test)[:, 1]))"
   ]
  },
  {
   "cell_type": "code",
   "execution_count": null,
   "id": "f00cae9f",
   "metadata": {},
   "outputs": [],
   "source": []
  },
  {
   "cell_type": "code",
   "execution_count": 1447,
   "id": "6a384b7c",
   "metadata": {},
   "outputs": [
    {
     "name": "stdout",
     "output_type": "stream",
     "text": [
      "Estimators: 10, Learning Rate: 0.01, Score: 0.7188976377952756, Runtime: 0.014583826065063477\n",
      "Estimators: 10, Learning Rate: 0.05, Score: 0.7221372328458942, Runtime: 0.008889198303222656\n",
      "Estimators: 10, Learning Rate: 0.1, Score: 0.7279865016872891, Runtime: 0.008192062377929688\n",
      "Estimators: 10, Learning Rate: 0.5, Score: 0.7294713160854892, Runtime: 0.0080718994140625\n",
      "Estimators: 10, Learning Rate: 1, Score: 0.7249268841394826, Runtime: 0.008717775344848633\n",
      "Estimators: 20, Learning Rate: 0.01, Score: 0.719572553430821, Runtime: 0.016012907028198242\n",
      "Estimators: 20, Learning Rate: 0.05, Score: 0.7318110236220474, Runtime: 0.0157010555267334\n",
      "Estimators: 20, Learning Rate: 0.1, Score: 0.7309561304836896, Runtime: 0.015756845474243164\n",
      "Estimators: 20, Learning Rate: 0.5, Score: 0.7337007874015748, Runtime: 0.015555858612060547\n",
      "Estimators: 20, Learning Rate: 1, Score: 0.7177502812148481, Runtime: 0.015553951263427734\n",
      "Estimators: 50, Learning Rate: 0.01, Score: 0.7300112485939259, Runtime: 0.03869891166687012\n",
      "Estimators: 50, Learning Rate: 0.05, Score: 0.7332058492688412, Runtime: 0.04120922088623047\n",
      "Estimators: 50, Learning Rate: 0.1, Score: 0.7252193475815523, Runtime: 0.04026198387145996\n",
      "Estimators: 50, Learning Rate: 0.5, Score: 0.7186501687289089, Runtime: 0.039147138595581055\n",
      "Estimators: 50, Learning Rate: 1, Score: 0.7154555680539931, Runtime: 0.03711223602294922\n",
      "Estimators: 75, Learning Rate: 0.01, Score: 0.7298312710911137, Runtime: 0.055509090423583984\n",
      "Estimators: 75, Learning Rate: 0.05, Score: 0.7308661417322835, Runtime: 0.05718517303466797\n",
      "Estimators: 75, Learning Rate: 0.1, Score: 0.7229921259842519, Runtime: 0.05708599090576172\n",
      "Estimators: 75, Learning Rate: 0.5, Score: 0.7182002249718785, Runtime: 0.05525493621826172\n",
      "Estimators: 75, Learning Rate: 1, Score: 0.7146456692913385, Runtime: 0.05473184585571289\n",
      "Estimators: 100, Learning Rate: 0.01, Score: 0.724161979752531, Runtime: 0.07525897026062012\n",
      "Estimators: 100, Learning Rate: 0.05, Score: 0.7251743532058492, Runtime: 0.07872223854064941\n",
      "Estimators: 100, Learning Rate: 0.1, Score: 0.7260967379077616, Runtime: 0.08591413497924805\n",
      "Estimators: 100, Learning Rate: 0.5, Score: 0.7155455568053993, Runtime: 0.08260917663574219\n",
      "Estimators: 100, Learning Rate: 1, Score: 0.7095613048368954, Runtime: 0.07435297966003418\n",
      "Estimators: 150, Learning Rate: 0.01, Score: 0.7304386951631046, Runtime: 0.11010408401489258\n",
      "Estimators: 150, Learning Rate: 0.05, Score: 0.7237795275590551, Runtime: 0.11647915840148926\n",
      "Estimators: 150, Learning Rate: 0.1, Score: 0.7189651293588302, Runtime: 0.10919499397277832\n",
      "Estimators: 150, Learning Rate: 0.5, Score: 0.7179302587176604, Runtime: 0.12136197090148926\n",
      "Estimators: 150, Learning Rate: 1, Score: 0.7065016872890888, Runtime: 0.11925101280212402\n",
      "Estimators: 200, Learning Rate: 0.01, Score: 0.7310011248593926, Runtime: 0.15628409385681152\n",
      "Estimators: 200, Learning Rate: 0.05, Score: 0.7242069741282339, Runtime: 0.1465001106262207\n",
      "Estimators: 200, Learning Rate: 0.1, Score: 0.7162879640044995, Runtime: 0.14844799041748047\n",
      "Estimators: 200, Learning Rate: 0.5, Score: 0.7184251968503936, Runtime: 0.14678192138671875\n",
      "Estimators: 200, Learning Rate: 1, Score: 0.7056917885264341, Runtime: 0.1497631072998047\n"
     ]
    }
   ],
   "source": [
    "X_train, X_test, y_train, y_test = train_test_split(X, y, test_size=.2, random_state=0)\n",
    "X_train, X_valid, y_train, y_valid = train_test_split(X_train, y_train, test_size=.2, random_state=0)\n",
    "\n",
    "\n",
    "for est in param_grid['n_estimators']:\n",
    "    for lr in param_grid['learning_rate']:\n",
    "        ada = AdaBoostClassifier(n_estimators=est, learning_rate=lr)\n",
    "        start = time.time()\n",
    "        ada.fit(X_train, y_train)\n",
    "        end = time.time()\n",
    "        score = roc_auc_score(y_valid, ada.predict_proba(X_valid)[:, 1])\n",
    "        runtime = end - start\n",
    "        print(f\"Estimators: {est}, Learning Rate: {lr}, Score: {score}, Runtime: {runtime}\")\n"
   ]
  },
  {
   "cell_type": "code",
   "execution_count": 1462,
   "id": "aff27b3e",
   "metadata": {},
   "outputs": [
    {
     "name": "stdout",
     "output_type": "stream",
     "text": [
      "   mean_fit_time  std_fit_time  mean_score_time  std_score_time  \\\n",
      "0       0.009034      0.000867         0.001605        0.000421   \n",
      "1       0.015988      0.000157         0.001871        0.000031   \n",
      "2       0.038157      0.000813         0.003124        0.000223   \n",
      "3       0.055695      0.000139         0.003988        0.000024   \n",
      "4       0.073814      0.000138         0.005039        0.000022   \n",
      "5       0.110173      0.000252         0.007195        0.000066   \n",
      "6       0.152070      0.010736         0.009636        0.000764   \n",
      "7       0.008791      0.000410         0.001502        0.000123   \n",
      "8       0.015555      0.000114         0.001714        0.000023   \n",
      "9       0.037216      0.000156         0.002934        0.000012   \n",
      "\n",
      "  param_learning_rate param_n_estimators  \\\n",
      "0                0.01                 10   \n",
      "1                0.01                 20   \n",
      "2                0.01                 50   \n",
      "3                0.01                 75   \n",
      "4                0.01                100   \n",
      "5                0.01                150   \n",
      "6                0.01                200   \n",
      "7                0.05                 10   \n",
      "8                0.05                 20   \n",
      "9                0.05                 50   \n",
      "\n",
      "                                         params  split0_test_score  \\\n",
      "0   {'learning_rate': 0.01, 'n_estimators': 10}           0.707789   \n",
      "1   {'learning_rate': 0.01, 'n_estimators': 20}           0.707789   \n",
      "2   {'learning_rate': 0.01, 'n_estimators': 50}           0.752941   \n",
      "3   {'learning_rate': 0.01, 'n_estimators': 75}           0.779005   \n",
      "4  {'learning_rate': 0.01, 'n_estimators': 100}           0.780609   \n",
      "5  {'learning_rate': 0.01, 'n_estimators': 150}           0.794443   \n",
      "6  {'learning_rate': 0.01, 'n_estimators': 200}           0.802139   \n",
      "7   {'learning_rate': 0.05, 'n_estimators': 10}           0.752941   \n",
      "8   {'learning_rate': 0.05, 'n_estimators': 20}           0.779005   \n",
      "9   {'learning_rate': 0.05, 'n_estimators': 50}           0.807626   \n",
      "\n",
      "   split1_test_score  split2_test_score  ...  mean_test_score  std_test_score  \\\n",
      "0           0.733296           0.719765  ...         0.731710        0.020986   \n",
      "1           0.733296           0.719765  ...         0.731710        0.020986   \n",
      "2           0.816279           0.790220  ...         0.792195        0.030203   \n",
      "3           0.815743           0.797149  ...         0.804578        0.018798   \n",
      "4           0.825705           0.797149  ...         0.810982        0.023438   \n",
      "5           0.826754           0.802795  ...         0.816908        0.020417   \n",
      "6           0.828131           0.806038  ...         0.821810        0.019120   \n",
      "7           0.816279           0.790780  ...         0.792307        0.030197   \n",
      "8           0.824445           0.797149  ...         0.809292        0.022595   \n",
      "9           0.833287           0.809560  ...         0.826074        0.016968   \n",
      "\n",
      "   rank_test_score  split0_train_score  split1_train_score  \\\n",
      "0               34            0.737667            0.731303   \n",
      "1               34            0.737667            0.731303   \n",
      "2               33            0.793342            0.800571   \n",
      "3               29            0.812341            0.802764   \n",
      "4               25            0.813925            0.817037   \n",
      "5               20            0.825563            0.820715   \n",
      "6               15            0.832787            0.825218   \n",
      "7               32            0.793342            0.800571   \n",
      "8               28            0.812341            0.817034   \n",
      "9               12            0.836801            0.830354   \n",
      "\n",
      "   split2_train_score  split3_train_score  split4_train_score  \\\n",
      "0            0.734605            0.732658            0.722093   \n",
      "1            0.734605            0.732658            0.722093   \n",
      "2            0.808826            0.784487            0.795313   \n",
      "3            0.820544            0.804907            0.801241   \n",
      "4            0.820544            0.814775            0.808573   \n",
      "5            0.829707            0.817491            0.821281   \n",
      "6            0.833423            0.826541            0.827705   \n",
      "7            0.806997            0.784487            0.795313   \n",
      "8            0.820544            0.813133            0.808018   \n",
      "9            0.837096            0.831917            0.832109   \n",
      "\n",
      "   mean_train_score  std_train_score  \n",
      "0          0.731665         0.005242  \n",
      "1          0.731665         0.005242  \n",
      "2          0.796508         0.008052  \n",
      "3          0.808360         0.007186  \n",
      "4          0.814971         0.003934  \n",
      "5          0.822951         0.004244  \n",
      "6          0.829135         0.003342  \n",
      "7          0.796142         0.007508  \n",
      "8          0.814214         0.004268  \n",
      "9          0.833656         0.002758  \n",
      "\n",
      "[10 rows x 22 columns]\n"
     ]
    },
    {
     "name": "stderr",
     "output_type": "stream",
     "text": [
      "/var/folders/yz/d4wch5zd2m1dl4j2c078zfnm0000gn/T/ipykernel_9369/2242498020.py:7: FutureWarning: The default value of numeric_only in DataFrameGroupBy.mean is deprecated. In a future version, numeric_only will default to False. Either specify numeric_only or select only columns which should be valid for the function.\n",
      "  plt.plot(cv_results.groupby(\"param_n_estimators\").agg(\"mean\")[\"mean_test_score\"])\n",
      "/var/folders/yz/d4wch5zd2m1dl4j2c078zfnm0000gn/T/ipykernel_9369/2242498020.py:16: FutureWarning: The default value of numeric_only in DataFrameGroupBy.mean is deprecated. In a future version, numeric_only will default to False. Either specify numeric_only or select only columns which should be valid for the function.\n",
      "  plt.plot(cv_results.groupby(\"param_n_estimators\").agg(\"mean\")[\"mean_train_score\"])\n"
     ]
    },
    {
     "data": {
      "image/png": "[encoded data removed]",
      "text/plain": [
       "<Figure size 640x480 with 1 Axes>"
      ]
     },
     "metadata": {},
     "output_type": "display_data"
    }
   ],
   "source": [
    "cv_results = pd.DataFrame.from_dict(clf.cv_results_)\n",
    "print(cv_results.head(10))\n",
    "\n",
    "#gen learn_rate plot\n",
    "\n",
    "\n",
    "plt.plot(cv_results.groupby(\"param_n_estimators\").agg(\"mean\")[\"mean_test_score\"])\n",
    "\n",
    "plt.ylabel(\"Mean Validation Score\")\n",
    "plt.xlabel(\"N_Estimators\")\n",
    "plt.title(\"Num. Estimators, Mushrooms\")\n",
    "\n",
    "plt.savefig(\"boost_estimators_test_curve_mushrooms.png\")\n",
    "\n",
    "plt.clf()\n",
    "plt.plot(cv_results.groupby(\"param_n_estimators\").agg(\"mean\")[\"mean_train_score\"])\n",
    "plt.ylabel(\"Mean Training Score\")\n",
    "plt.xlabel(\"N_Estimators\")\n",
    "plt.title(\"Num. Estimators, Mushrooms\")\n",
    "\n",
    "plt.savefig(\"boost_estimators_train_curve_mushrooms.png\")\n",
    "\n",
    "\n",
    "#plt.plot(cv_results.groupby(\"param_learning_rate\").agg(\"mean\")[\"mean_test_score\"])\n",
    "#plt.scatter(estimators, scores)\n",
    "#plt.show()\n"
   ]
  },
  {
   "cell_type": "code",
   "execution_count": 948,
   "id": "57ba09d8",
   "metadata": {},
   "outputs": [
    {
     "data": {
      "text/plain": [
       "(array([0, 1]), array([414, 209]))"
      ]
     },
     "execution_count": 948,
     "metadata": {},
     "output_type": "execute_result"
    }
   ],
   "source": [
    "X_train, X_test, y_train, y_test = train_test_split(X, y, test_size=.33, random_state=0)\n",
    "y_pred = best_ada.predict(X_test)\n",
    "\n",
    "np.unique(y_pred, return_counts=True)"
   ]
  },
  {
   "cell_type": "code",
   "execution_count": 1463,
   "id": "b59e0c36",
   "metadata": {},
   "outputs": [
    {
     "name": "stderr",
     "output_type": "stream",
     "text": [
      "/opt/homebrew/Caskroom/miniconda/base/envs/holford/lib/python3.11/site-packages/sklearn/model_selection/_validation.py:824: UserWarning: Scoring failed. The score on this train-test partition for these parameters will be set to nan. Details: \n",
      "Traceback (most recent call last):\n",
      "  File \"/opt/homebrew/Caskroom/miniconda/base/envs/holford/lib/python3.11/site-packages/sklearn/model_selection/_validation.py\", line 813, in _score\n",
      "    scores = scorer(estimator, X_test, y_test)\n",
      "             ^^^^^^^^^^^^^^^^^^^^^^^^^^^^^^^^^\n",
      "  File \"/opt/homebrew/Caskroom/miniconda/base/envs/holford/lib/python3.11/site-packages/sklearn/metrics/_scorer.py\", line 266, in __call__\n",
      "    return self._score(partial(_cached_call, None), estimator, X, y_true, **_kwargs)\n",
      "           ^^^^^^^^^^^^^^^^^^^^^^^^^^^^^^^^^^^^^^^^^^^^^^^^^^^^^^^^^^^^^^^^^^^^^^^^^\n",
      "  File \"/opt/homebrew/Caskroom/miniconda/base/envs/holford/lib/python3.11/site-packages/sklearn/metrics/_scorer.py\", line 471, in _score\n",
      "    return self._sign * self._score_func(y, y_pred, **scoring_kwargs)\n",
      "                        ^^^^^^^^^^^^^^^^^^^^^^^^^^^^^^^^^^^^^^^^^^^^^\n",
      "  File \"/opt/homebrew/Caskroom/miniconda/base/envs/holford/lib/python3.11/site-packages/sklearn/utils/_param_validation.py\", line 211, in wrapper\n",
      "    return func(*args, **kwargs)\n",
      "           ^^^^^^^^^^^^^^^^^^^^^\n",
      "  File \"/opt/homebrew/Caskroom/miniconda/base/envs/holford/lib/python3.11/site-packages/sklearn/metrics/_ranking.py\", line 626, in roc_auc_score\n",
      "    return _average_binary_score(\n",
      "           ^^^^^^^^^^^^^^^^^^^^^^\n",
      "  File \"/opt/homebrew/Caskroom/miniconda/base/envs/holford/lib/python3.11/site-packages/sklearn/metrics/_base.py\", line 75, in _average_binary_score\n",
      "    return binary_metric(y_true, y_score, sample_weight=sample_weight)\n",
      "           ^^^^^^^^^^^^^^^^^^^^^^^^^^^^^^^^^^^^^^^^^^^^^^^^^^^^^^^^^^^\n",
      "  File \"/opt/homebrew/Caskroom/miniconda/base/envs/holford/lib/python3.11/site-packages/sklearn/metrics/_ranking.py\", line 381, in _binary_roc_auc_score\n",
      "    raise ValueError(\n",
      "ValueError: Only one class present in y_true. ROC AUC score is not defined in that case.\n",
      "\n",
      "  warnings.warn(\n",
      "/opt/homebrew/Caskroom/miniconda/base/envs/holford/lib/python3.11/site-packages/sklearn/model_selection/_validation.py:824: UserWarning: Scoring failed. The score on this train-test partition for these parameters will be set to nan. Details: \n",
      "Traceback (most recent call last):\n",
      "  File \"/opt/homebrew/Caskroom/miniconda/base/envs/holford/lib/python3.11/site-packages/sklearn/model_selection/_validation.py\", line 813, in _score\n",
      "    scores = scorer(estimator, X_test, y_test)\n",
      "             ^^^^^^^^^^^^^^^^^^^^^^^^^^^^^^^^^\n",
      "  File \"/opt/homebrew/Caskroom/miniconda/base/envs/holford/lib/python3.11/site-packages/sklearn/metrics/_scorer.py\", line 266, in __call__\n",
      "    return self._score(partial(_cached_call, None), estimator, X, y_true, **_kwargs)\n",
      "           ^^^^^^^^^^^^^^^^^^^^^^^^^^^^^^^^^^^^^^^^^^^^^^^^^^^^^^^^^^^^^^^^^^^^^^^^^\n",
      "  File \"/opt/homebrew/Caskroom/miniconda/base/envs/holford/lib/python3.11/site-packages/sklearn/metrics/_scorer.py\", line 471, in _score\n",
      "    return self._sign * self._score_func(y, y_pred, **scoring_kwargs)\n",
      "                        ^^^^^^^^^^^^^^^^^^^^^^^^^^^^^^^^^^^^^^^^^^^^^\n",
      "  File \"/opt/homebrew/Caskroom/miniconda/base/envs/holford/lib/python3.11/site-packages/sklearn/utils/_param_validation.py\", line 211, in wrapper\n",
      "    return func(*args, **kwargs)\n",
      "           ^^^^^^^^^^^^^^^^^^^^^\n",
      "  File \"/opt/homebrew/Caskroom/miniconda/base/envs/holford/lib/python3.11/site-packages/sklearn/metrics/_ranking.py\", line 626, in roc_auc_score\n",
      "    return _average_binary_score(\n",
      "           ^^^^^^^^^^^^^^^^^^^^^^\n",
      "  File \"/opt/homebrew/Caskroom/miniconda/base/envs/holford/lib/python3.11/site-packages/sklearn/metrics/_base.py\", line 75, in _average_binary_score\n",
      "    return binary_metric(y_true, y_score, sample_weight=sample_weight)\n",
      "           ^^^^^^^^^^^^^^^^^^^^^^^^^^^^^^^^^^^^^^^^^^^^^^^^^^^^^^^^^^^\n",
      "  File \"/opt/homebrew/Caskroom/miniconda/base/envs/holford/lib/python3.11/site-packages/sklearn/metrics/_ranking.py\", line 381, in _binary_roc_auc_score\n",
      "    raise ValueError(\n",
      "ValueError: Only one class present in y_true. ROC AUC score is not defined in that case.\n",
      "\n",
      "  warnings.warn(\n"
     ]
    },
    {
     "data": {
      "image/png": "[encoded data removed]",
      "text/plain": [
       "<Figure size 640x480 with 1 Axes>"
      ]
     },
     "metadata": {},
     "output_type": "display_data"
    }
   ],
   "source": [
    "import matplotlib as mpl\n",
    "mpl.rcdefaults()\n",
    "\n",
    "from sklearn.model_selection import learning_curve\n",
    "\n",
    "train_sizes = 100, 200, 500, 1000, 1500\n",
    "\n",
    "train_sizes, train_scores, test_scores = learning_curve(best_ada, X, y, train_sizes=train_sizes, scoring='roc_auc', random_state=0)\n",
    "\n",
    "plt.plot(train_sizes, test_scores.mean(axis=1))\n",
    "plt.xlabel(\"Data Points\")\n",
    "plt.ylabel(\"Validation Score\")\n",
    "plt.title(\"Learning Curve, Mushrooms\")\n",
    "\n",
    "plt.savefig(\"boost_learn_curve_mushrooms.png\")\n",
    "\n",
    "plt.clf()\n",
    "plt.plot(train_sizes, train_scores.mean(axis=1))\n",
    "plt.xlabel(\"Data Points\")\n",
    "plt.ylabel(\"Training Score\")\n",
    "plt.savefig(\"boost_train_curve_mushrooms.png\")"
   ]
  },
  {
   "cell_type": "markdown",
   "id": "12fcba20",
   "metadata": {},
   "source": [
    "### SVM"
   ]
  },
  {
   "cell_type": "code",
   "execution_count": 1402,
   "id": "b1f72c29",
   "metadata": {},
   "outputs": [],
   "source": [
    "#define classification problems: semeron consumption, heroin consumption\n",
    "\n",
    "X = df[['Age', 'Gender', 'NScore', 'Escore', 'Oscore', 'Ascore', 'Cscore', 'Impulsive', 'SS', 'Country_Australia', 'Country_Canada',\n",
    "       'Country_Ireland', 'Country_New Zealand', 'Country_Other', 'Country_UK',\n",
    "       'Country_USA', 'Ethnicity_Asian', 'Ethnicity_Black', 'Ethnicity_Black/Asian', 'Ethnicity_Other', \n",
    "        'Ethnicity_White', 'Ethnicity_White/Asian', 'Ethnicity_White/Black']]\n",
    "\n",
    "y = df['Coke']"
   ]
  },
  {
   "cell_type": "code",
   "execution_count": 1083,
   "id": "9cff96a1",
   "metadata": {},
   "outputs": [],
   "source": [
    "from sklearn.svm import SVC\n",
    "from sklearn.model_selection import GridSearchCV\n",
    "import time\n",
    "\n",
    "param_grid = {'C': [.01, .1, 1, 10, 100], \n",
    "              'gamma': [1, .5, .1, .01, .001],\n",
    "              'kernel': ['rbf', 'sigmoid']\n",
    "             }\n",
    "\n",
    "def run_svm_experiment(hyper_params, X, y, outfile, upsample=False):\n",
    "    pwd = os.getcwd()\n",
    "    \n",
    "    content = ''\n",
    "    \n",
    "    best_score = 0\n",
    "    best_combo = ''\n",
    "    best_test = 0\n",
    "    \n",
    "    X_train, X_test, y_train, y_test = train_test_split(X, y, test_size=0.2, random_state=0)\n",
    "    X_train, X_valid, y_train, y_valid = train_test_split(X_train, y_train, test_size=0.2, random_state=0)\n",
    "    \n",
    "    if upsample:\n",
    "        sm = SMOTE(random_state = 2)\n",
    "\n",
    "        X_train, y_train = sm.fit_resample(X_train, y_train.ravel())\n",
    "    \n",
    "    \n",
    "    for C in hyper_params['C']:\n",
    "        for kernel in hyper_params['kernel']:\n",
    "            \n",
    "            if kernel == 'rbf':\n",
    "                for gamma in hyper_params['gamma']:\n",
    "                    svm = SVC(kernel=kernel, C=C, gamma=gamma, probability=True)\n",
    "                    svm.fit(X_train, y_train)\n",
    "                    \n",
    "                    score = roc_auc_score(y_valid, svm.predict_proba(X_valid)[:, 1])\n",
    "                    content += f\"C: {C}, kernel: {kernel}, gamma: {gamma}, score: {score})\\n\"\n",
    "                    \n",
    "                    test_score = roc_auc_score(y_test, svm.predict_proba(X_test)[:, 1])\n",
    "                    \n",
    "                    if score > best_score:\n",
    "                        best_score = score\n",
    "                        best_combo = f\"C: {C}, kernel: {kernel}, gamma: {gamma}\"\n",
    "                        best_test = test_score\n",
    "            else:\n",
    "                svm = SVC(kernel=kernel, C=C, probability=True)\n",
    "                \n",
    "                svm.fit(X_train, y_train)\n",
    "              \n",
    "                \n",
    "                score = roc_auc_score(y_valid, svm.predict_proba(X_valid)[:, 1])\n",
    "                content += f\"C: {C}, kernel: {kernel}, score: {score}\\n\"\n",
    "                \n",
    "                test_score = roc_auc_score(y_test, svm.predict_proba(X_test)[:, 1])\n",
    "                    \n",
    "                if score > best_score:\n",
    "                    best_score = score\n",
    "                    best_combo = f\"C: {C}, kernel: {kernel}\"\n",
    "                    best_test = test_score\n",
    "                    \n",
    "    \n",
    "    content += f\"\\nBest score: {best_score}\"\n",
    "    content += f\"\\nBest hyperparameter combination is \" + best_combo\n",
    "    content += f\"\\nTest score: {best_test}\"\n",
    "    \n",
    "    \n",
    "                    \n",
    "                    \n",
    "\n",
    "    outdir = f\"{pwd}/svm_experiments\"\n",
    "    cmd = f\"mkdir -p {outdir}\"\n",
    "    os.system(cmd)\n",
    "    \n",
    "        \n",
    "    with open(outdir + \"/\" + outfile, \"w\") as f:\n",
    "        f.write(content)\n",
    "        \n",
    "    return\n",
    "    \n",
    "    \n"
   ]
  },
  {
   "cell_type": "code",
   "execution_count": 1084,
   "id": "3a903a38",
   "metadata": {},
   "outputs": [],
   "source": [
    "run_svm_experiment(param_grid, X, y, \"cocaine_svc_test.txt\")"
   ]
  },
  {
   "cell_type": "code",
   "execution_count": 1579,
   "id": "582dfd8e",
   "metadata": {},
   "outputs": [
    {
     "name": "stdout",
     "output_type": "stream",
     "text": [
      "Runtime: 0.22126007080078125\n",
      "0.014645099639892578\n"
     ]
    }
   ],
   "source": [
    "#runtime \n",
    "X_train, X_test, y_train, y_test = train_test_split(X, y, test_size = .2, random_state=0)\n",
    "svm = SVC(kernel='rbf', C=10, gamma=.01, probability=True)\n",
    "start = time.time()\n",
    "svm.fit(X_train, y_train)\n",
    "end = time.time()\n",
    "runtime = end - start\n",
    "print(f\"Runtime: {runtime}\")\n",
    "\n",
    "start = time.time()\n",
    "svm.predict(X_test)\n",
    "end = time.time()\n",
    "runtime = end - start\n",
    "print(runtime)"
   ]
  },
  {
   "cell_type": "code",
   "execution_count": 759,
   "id": "d599266c",
   "metadata": {},
   "outputs": [
    {
     "name": "stdout",
     "output_type": "stream",
     "text": [
      "C: 0.01; degree: 2; score: 0.6561910276205182\n",
      "C: 0.01; degree: 3; score: 0.6289886773031395\n",
      "C: 0.01; degree: 4; score: 0.5718819694630297\n",
      "C: 0.01; degree: 5; score: 0.564269171384457\n",
      "C: 0.1; degree: 2; score: 0.6787828100874935\n",
      "C: 0.1; degree: 3; score: 0.664672328015097\n",
      "C: 0.1; degree: 4; score: 0.6869960542117002\n",
      "C: 0.1; degree: 5; score: 0.5911069651741293\n",
      "C: 0.5; degree: 2; score: 0.6601582604220277\n",
      "C: 0.5; degree: 3; score: 0.6835971007033798\n",
      "C: 0.5; degree: 4; score: 0.6753516898267284\n",
      "C: 0.5; degree: 5; score: 0.6585928118030537\n",
      "C: 1; degree: 2; score: 0.6697868416538\n",
      "C: 1; degree: 3; score: 0.6519128495453765\n",
      "C: 1; degree: 4; score: 0.6662056098816264\n",
      "C: 1; degree: 5; score: 0.6368373648996397\n",
      "C: 5; degree: 2; score: 0.6601582604220277\n",
      "C: 5; degree: 3; score: 0.6486640075484645\n",
      "C: 5; degree: 4; score: 0.6278735632183908\n",
      "C: 5; degree: 5; score: 0.6216439354949391\n",
      "C: 10; degree: 2; score: 0.668703894321496\n",
      "C: 10; degree: 3; score: 0.639185537828101\n",
      "C: 10; degree: 4; score: 0.6257076685537829\n",
      "C: 10; degree: 5; score: 0.6118652427517585\n",
      "Time elapsed: 2.4080278873443604\n"
     ]
    }
   ],
   "source": [
    "import time \n",
    "\n",
    "C_vals = [.01, .1, .5, 1, 5, 10]\n",
    "degree_vals = [2, 3, 4, 5]\n",
    "\n",
    "for C in C_vals:\n",
    "    for degree in degree_vals:\n",
    "        svm = SVC(kernel='poly', C=C, degree=degree)\n",
    "        svm.fit(X_train_res, y_train_res)\n",
    "        score = roc_auc_score(y_test, svm.predict(X_test))\n",
    "        roc_auc_scores.append(score)\n",
    "        print(f\"C: {C}; degree: {degree}; score: {score}\")\n",
    "print(\"Time elapsed: \" + str(end - start))"
   ]
  },
  {
   "cell_type": "code",
   "execution_count": 1374,
   "id": "5dd52ba0",
   "metadata": {},
   "outputs": [
    {
     "data": {
      "image/png": "[encoded data removed]",
      "text/plain": [
       "<Figure size 640x480 with 1 Axes>"
      ]
     },
     "metadata": {},
     "output_type": "display_data"
    }
   ],
   "source": [
    "clf = SVC(kernel='rbf', C=.01, gamma=.1, probability=True)\n",
    "\n",
    "train_sizes, train_scores, test_scores = learning_curve(clf, X, y, scoring='roc_auc')\n",
    "\n",
    "plt.plot(train_sizes, test_scores.mean(axis=1))\n",
    "plt.xlabel(\"Data Points\")\n",
    "plt.ylabel(\"Train Score\")\n",
    "plt.title(\"Learning Curve, Cocaine\")\n",
    "\n",
    "plt.savefig(\"svc_test_curve_coke.png\")"
   ]
  },
  {
   "cell_type": "code",
   "execution_count": 1391,
   "id": "4d617c6c",
   "metadata": {},
   "outputs": [
    {
     "data": {
      "text/plain": [
       "377"
      ]
     },
     "execution_count": 1391,
     "metadata": {},
     "output_type": "execute_result"
    }
   ],
   "source": [
    "clf_1 = SVC(kernel='rbf', C=.01, gamma=.1, probability=True)\n",
    "X_train, X_test, y_train, y_test = train_test_split(X, y, test_size=.2, random_state=0)\n",
    "\n",
    "clf_1.fit(X_train[:1200], y_train[:1200])\n",
    "\n",
    "first_pred = clf_1.predict(X_test)\n",
    "\n",
    "clf_2 = SVC(kernel='rbf', C=.01, gamma=.1, probability=True)\n",
    "clf_2.fit(X_train, y_train)\n",
    "second_pred = clf_2.predict(X_test)\n",
    "\n",
    "comparison = np.equal(first_pred, second_pred)\n",
    "len(first_pred)"
   ]
  },
  {
   "cell_type": "code",
   "execution_count": 795,
   "id": "699888c4",
   "metadata": {},
   "outputs": [],
   "source": [
    "from imblearn.over_sampling import SMOTE\n",
    "sm = SMOTE(random_state = 2)\n",
    "\n",
    "X_train, X_test, y_train, y_test = train_test_split(X_reduced.to_numpy(), y.to_numpy(), test_size=.33, random_state=0)\n",
    "\n",
    "X_train_res, y_train_res = sm.fit_resample(X_train, y_train.ravel())"
   ]
  },
  {
   "cell_type": "code",
   "execution_count": 1406,
   "id": "ed63117e",
   "metadata": {},
   "outputs": [
    {
     "data": {
      "text/plain": [
       "0.7188751406074241"
      ]
     },
     "execution_count": 1406,
     "metadata": {},
     "output_type": "execute_result"
    }
   ],
   "source": [
    "X_train, X_test, y_train, y_test = train_test_split(X, y, test_size=0.2, random_state=0)\n",
    "X_train, X_valid, y_train, y_valid = train_test_split(X_train, y_train, test_size=0.2, random_state=0)\n",
    "clf = SVC(C = 100, gamma=.0001, kernel='rbf', probability=True)\n",
    "clf.fit(X_train, y_train)\n",
    "\n",
    "roc_auc_score(y_valid, clf.predict_proba(X_valid)[:, 1])"
   ]
  },
  {
   "cell_type": "code",
   "execution_count": 642,
   "id": "38823001",
   "metadata": {},
   "outputs": [
    {
     "data": {
      "text/plain": [
       "<matplotlib.collections.PathCollection at 0x2aa2f8790>"
      ]
     },
     "execution_count": 642,
     "metadata": {},
     "output_type": "execute_result"
    },
    {
     "data": {
      "image/png": "[encoded data removed]",
      "text/plain": [
       "<Figure size 800x550 with 1 Axes>"
      ]
     },
     "metadata": {},
     "output_type": "display_data"
    }
   ],
   "source": [
    "plt.scatter(C_times_gamma, roc_auc_scores)"
   ]
  },
  {
   "cell_type": "code",
   "execution_count": 1449,
   "id": "1dbb3fee",
   "metadata": {},
   "outputs": [],
   "source": [
    "param_grid = {'C': [.01, .1, 1, 10, 100], \n",
    "              #'degree': [2, 3, 4],\n",
    "              'gamma': [1, .5, .1, .01, .001],\n",
    "              'kernel': ['anova']\n",
    "             }\n",
    "\n"
   ]
  },
  {
   "cell_type": "code",
   "execution_count": 1452,
   "id": "c1955c17",
   "metadata": {},
   "outputs": [],
   "source": [
    "X = df[['Age', 'Gender', 'NScore', 'Escore', 'Oscore', 'Ascore', 'Cscore', 'Impulsive', 'SS', 'Country_Australia', 'Country_Canada',\n",
    "      'Country_Ireland', 'Country_New Zealand', 'Country_Other', 'Country_UK',\n",
    "        'Country_USA', 'Ethnicity_Asian', 'Ethnicity_Black', 'Ethnicity_Black/Asian', 'Ethnicity_Other', \n",
    "        'Ethnicity_White', 'Ethnicity_White/Asian', 'Ethnicity_White/Black']]\n",
    "\n",
    "y = df['Coke']\n",
    "\n",
    "X_train, X_test, y_train, y_test = train_test_split(X, y, test_size=.2, random_state=0)\n",
    "X_train, X_valid, y_train, y_valid = train_test_split(X_train, y_train, test_size=.2, random_state=0)\n",
    "\n",
    "content = \"\"\n",
    "\n",
    "for C in param_grid['C']:\n",
    "    for gamma in param_grid['gamma']:\n",
    "        start = time.time()\n",
    "        clf = SVC(kernel='rbf', C=C, gamma=gamma)\n",
    "        clf.fit(X_train, y_train)\n",
    "        end = time.time()\n",
    "        runtime = end - start\n",
    "        score = accuracy_score(y_valid, clf.predict(X_valid))\n",
    "        content += f\"C: {C}, Gamma: {gamma}, Score: {score}, Runtime: {runtime}\\n\"\n",
    "\n",
    "with open(\"svm_runtime_info.txt\", \"w\") as f:\n",
    "    f.write(content)"
   ]
  },
  {
   "cell_type": "code",
   "execution_count": 757,
   "id": "17c62e16",
   "metadata": {},
   "outputs": [
    {
     "data": {
      "text/plain": [
       "'SVM does a good job of removing irrelevant features, experiences only a 20 percent slowdown'"
      ]
     },
     "execution_count": 757,
     "metadata": {},
     "output_type": "execute_result"
    }
   ],
   "source": [
    "X_reduced = df[['Gender', 'NScore', 'Escore', 'Oscore', 'Ascore', 'Cscore', 'Impulsive', 'SS', 'Country_UK',\n",
    "       'Country_USA']]\n",
    "\n",
    "y = df['Heroin']\n",
    "\n",
    "'''SVM does a good job of removing irrelevant features, experiences only a 20 percent slowdown'''"
   ]
  },
  {
   "cell_type": "code",
   "execution_count": 745,
   "id": "e70600c9",
   "metadata": {},
   "outputs": [],
   "source": [
    "X = df[['Age', 'Gender', 'NScore', 'Escore', 'Oscore', 'Ascore', 'Cscore', 'Impulsive', 'SS', 'Country_Australia', 'Country_Canada',\n",
    "       'Country_Ireland', 'Country_New Zealand', 'Country_Other', 'Country_UK',\n",
    "       'Country_USA', 'Ethnicity_Asian', 'Ethnicity_Black', 'Ethnicity_Black/Asian', 'Ethnicity_Other', \n",
    "        'Ethnicity_White', 'Ethnicity_White/Asian', 'Ethnicity_White/Black']]\n",
    "\n",
    "y = df['Heroin']\n",
    "\n",
    "param_grid = {'C': [.01, .02, .03, .04, .05], \n",
    "              'kernel': ['sigmoid']\n",
    "             }\n",
    "\n",
    "\n",
    "\n",
    "#run_svm_experiment(param_grid, X_reduced, y, 'sigmoid_tuning_reduced.txt', upsample=True)"
   ]
  },
  {
   "cell_type": "code",
   "execution_count": 749,
   "id": "087ec3c2",
   "metadata": {},
   "outputs": [
    {
     "data": {
      "image/png": "[encoded data removed]",
      "text/plain": [
       "<Figure size 800x550 with 1 Axes>"
      ]
     },
     "metadata": {},
     "output_type": "display_data"
    }
   ],
   "source": [
    "#hyperparameters for SVM: Gamma, kernel function, C\n",
    "#generate and save learning curve\n",
    "\n",
    "from sklearn.utils import shuffle\n",
    "\n",
    "train_sizes = [100, 200, 500, 1000, 1500]\n",
    "\n",
    "X_train, X_test, y_train, y_test = train_test_split(X_reduced.to_numpy(), y.to_numpy(), test_size=.33, random_state=0)\n",
    "\n",
    "X_train_res, y_train_res = sm.fit_resample(X_train, y_train.ravel())\n",
    "\n",
    "X_train_res, y_train_res = shuffle(X_train_res, y_train_res, random_state=0)\n",
    "\n",
    "scores = []\n",
    "\n",
    "for size in train_sizes:\n",
    "    svm = SVC(kernel='sigmoid', C=.01)\n",
    "    partial_X_train = X_train_res[:size]\n",
    "    partial_y_train = y_train_res[:size]\n",
    "    svm.fit(partial_X_train, partial_y_train)\n",
    "    score = roc_auc_score(y_test, svm.predict(X_test))\n",
    "    scores.append(score)\n",
    "\n",
    "plt.plot(train_sizes, scores)\n",
    "plt.title(\"SVM Learning Curve, Sigmoid Kernel w/ Reduced Features\")\n",
    "plt.xlabel(\"Datapoints\")\n",
    "plt.ylabel(\"ROC_AUC\")\n",
    "plt.savefig(\"sigmoid_reduced_curve.png\")"
   ]
  },
  {
   "cell_type": "markdown",
   "id": "5f7cd8e2",
   "metadata": {},
   "source": [
    "### K Nearest Neighbors"
   ]
  },
  {
   "cell_type": "code",
   "execution_count": 1611,
   "id": "532110e8",
   "metadata": {},
   "outputs": [],
   "source": [
    "from sklearn.neighbors import KNeighborsClassifier\n",
    "from sklearn.preprocessing import StandardScaler\n",
    "\n",
    "#define classification problems: semeron consumption, heroin consumption\n",
    "\n",
    "X = df[['Age', 'Gender', 'NScore', 'Escore', 'Oscore', 'Ascore', 'Cscore', 'Impulsive', 'SS', 'Country_Australia', 'Country_Canada',\n",
    "       'Country_Ireland', 'Country_New Zealand', 'Country_Other', 'Country_UK',\n",
    "       'Country_USA', 'Ethnicity_Asian', 'Ethnicity_Black', 'Ethnicity_Black/Asian', 'Ethnicity_Other', \n",
    "        'Ethnicity_White', 'Ethnicity_White/Asian', 'Ethnicity_White/Black']]\n",
    "\n",
    "y = df['Coke']\n",
    "\n",
    "X_reduced = df[['Age', 'Gender', 'Oscore', 'Ascore', 'Cscore', 'Impulsive', 'SS', 'Country_UK', \"Country_USA\"]]\n",
    "\n",
    "y = df['Mushrooms']\n",
    "\n",
    "X_train, X_test, y_train, y_test = train_test_split(X_reduced, y, test_size=.2, random_state=0)\n",
    "\n",
    "X_train, X_valid, y_train, y_valid = train_test_split(X_train, y_train, test_size=.2, random_state=0)\n",
    "\n",
    "# scale data \n",
    "\n",
    "#scaler = StandardScaler()\n",
    "#scaler.fit(X_train)\n",
    "#X_train = scaler.transform(X_train)\n",
    "#X_valid = scaler.transform(X_valid)"
   ]
  },
  {
   "cell_type": "code",
   "execution_count": 1565,
   "id": "be1d5285",
   "metadata": {},
   "outputs": [
    {
     "data": {
      "text/plain": [
       "Age           -0.368913\n",
       "Gender        -0.267415\n",
       "Oscore         0.331126\n",
       "Ascore        -0.118339\n",
       "Cscore        -0.182461\n",
       "Impulsive      0.235943\n",
       "SS             0.356032\n",
       "Country_UK    -0.463538\n",
       "Country_USA    0.405789\n",
       "Mushrooms      1.000000\n",
       "Name: Mushrooms, dtype: float64"
      ]
     },
     "execution_count": 1565,
     "metadata": {},
     "output_type": "execute_result"
    }
   ],
   "source": [
    "corr_df = X_train.join(y_train)\n",
    "corr_df.corr()['Mushrooms']"
   ]
  },
  {
   "cell_type": "code",
   "execution_count": 1618,
   "id": "54d7afd7",
   "metadata": {},
   "outputs": [
    {
     "name": "stdout",
     "output_type": "stream",
     "text": [
      "Neighbors: 1 Score: 0.6506411698537683\n",
      "Neighbors: 2 Score: 0.7244319460067492\n",
      "Neighbors: 3 Score: 0.7508661417322835\n",
      "Neighbors: 4 Score: 0.7697637795275591\n",
      "Neighbors: 5 Score: 0.7721709786276716\n",
      "Neighbors: 6 Score: 0.7792125984251967\n",
      "Neighbors: 7 Score: 0.7877840269966254\n",
      "Neighbors: 8 Score: 0.7916535433070866\n",
      "Neighbors: 9 Score: 0.7980427446569178\n",
      "Neighbors: 10 Score: 0.8043194600674916\n",
      "Neighbors: 11 Score: 0.7967604049493813\n",
      "Neighbors: 12 Score: 0.7959280089988752\n",
      "Neighbors: 13 Score: 0.8007424071991001\n",
      "Neighbors: 14 Score: 0.8044094488188976\n",
      "Neighbors: 15 Score: 0.8065466816647919\n",
      "Neighbors: 16 Score: 0.8076265466816648\n",
      "Neighbors: 17 Score: 0.8021372328458942\n",
      "Neighbors: 18 Score: 0.8069516310461192\n",
      "Neighbors: 19 Score: 0.807806524184477\n",
      "Neighbors: 20 Score: 0.8101687289088864\n",
      "Neighbors: 21 Score: 0.8101462317210348\n",
      "Neighbors: 22 Score: 0.8098987626546681\n",
      "Neighbors: 23 Score: 0.8119460067491563\n",
      "Neighbors: 24 Score: 0.8117435320584927\n",
      "Neighbors: 25 Score: 0.8141507311586051\n",
      "Neighbors: 26 Score: 0.8123059617547806\n",
      "Neighbors: 27 Score: 0.8129808773903262\n",
      "Neighbors: 28 Score: 0.8157705286839144\n",
      "Neighbors: 29 Score: 0.8157255343082115\n",
      "Neighbors: 30 Score: 0.8134983127109111\n",
      "Neighbors: 31 Score: 0.811878515185602\n",
      "Neighbors: 32 Score: 0.8103487064116986\n",
      "Neighbors: 33 Score: 0.8113835770528683\n",
      "Neighbors: 34 Score: 0.8122384701912261\n",
      "Neighbors: 35 Score: 0.8130708661417323\n",
      "Neighbors: 36 Score: 0.8129358830146232\n",
      "Neighbors: 37 Score: 0.8125534308211474\n",
      "Neighbors: 38 Score: 0.8139257592800899\n",
      "Neighbors: 39 Score: 0.8150731158605173\n",
      "Neighbors: 40 Score: 0.8136107986501686\n",
      "Neighbors: 41 Score: 0.8142632170978626\n",
      "Neighbors: 42 Score: 0.8120584926884139\n",
      "Neighbors: 43 Score: 0.8110461192350956\n",
      "Neighbors: 44 Score: 0.8098762654668166\n",
      "Neighbors: 45 Score: 0.8082564679415073\n",
      "Neighbors: 46 Score: 0.8071091113610798\n",
      "Neighbors: 47 Score: 0.8067491563554556\n",
      "Neighbors: 48 Score: 0.8068841394825648\n",
      "Neighbors: 49 Score: 0.8056917885264343\n",
      "Neighbors: 50 Score: 0.8057142857142857\n",
      "Neighbors: 51 Score: 0.8063892013498313\n",
      "Neighbors: 52 Score: 0.8067941507311586\n",
      "Neighbors: 53 Score: 0.8074240719910012\n",
      "Neighbors: 54 Score: 0.8071541057367829\n",
      "Neighbors: 55 Score: 0.806681664791901\n",
      "Neighbors: 56 Score: 0.8070191226096739\n",
      "Neighbors: 57 Score: 0.8067491563554555\n",
      "Neighbors: 58 Score: 0.8057367829021371\n",
      "Neighbors: 59 Score: 0.8049268841394825\n",
      "Neighbors: 60 Score: 0.8065241844769403\n",
      "Neighbors: 61 Score: 0.8073340832395951\n",
      "Neighbors: 62 Score: 0.8077390326209224\n",
      "Neighbors: 63 Score: 0.8064566929133858\n",
      "Neighbors: 64 Score: 0.8059167604049493\n",
      "Neighbors: 65 Score: 0.8063892013498312\n",
      "Neighbors: 66 Score: 0.8057817772778402\n",
      "Neighbors: 67 Score: 0.8045219347581553\n",
      "Neighbors: 68 Score: 0.8051068616422947\n",
      "Neighbors: 69 Score: 0.8058042744656917\n",
      "Neighbors: 70 Score: 0.8070191226096737\n",
      "Neighbors: 71 Score: 0.8065916760404949\n",
      "Neighbors: 72 Score: 0.8065691788526436\n",
      "Neighbors: 73 Score: 0.8074915635545556\n",
      "Neighbors: 74 Score: 0.8068841394825647\n",
      "Neighbors: 75 Score: 0.8063892013498313\n",
      "Neighbors: 76 Score: 0.8065016872890888\n",
      "Neighbors: 77 Score: 0.8057592800899886\n",
      "Neighbors: 78 Score: 0.8070866141732282\n",
      "Neighbors: 79 Score: 0.8079190101237346\n"
     ]
    },
    {
     "data": {
      "image/png": "[encoded data removed]",
      "text/plain": [
       "<Figure size 640x480 with 1 Axes>"
      ]
     },
     "metadata": {},
     "output_type": "display_data"
    }
   ],
   "source": [
    "best_score = 0\n",
    "\n",
    "scores = []\n",
    "\n",
    "for i in range(1, 80): \n",
    "    knn = KNeighborsClassifier(n_neighbors = i).fit(X_train,y_train)\n",
    "    score = roc_auc_score(y_valid, knn.predict_proba(X_valid)[:, 1])\n",
    "    \n",
    "    scores.append(score)\n",
    "\n",
    "    if score > best_score:\n",
    "        best_i = i\n",
    "        best_score = score\n",
    "    \n",
    "    print(f\"Neighbors: {i} Score: {score}\")\n",
    "    \n",
    "   # with open(\"knn_experiments/mushroom_results.txt\", \"a\") as f:\n",
    "   #     f.write(f\"Neighbors: {i} Score: {score}\\n\")\n",
    "\n",
    "knn = KNeighborsClassifier(n_neighbors=best_i).fit(X_train, y_train)\n",
    "test_score = roc_auc_score(y_test, knn.predict_proba(X_test)[:, 1])\n",
    "\n",
    "plt.plot(list(range(1, 80)), scores)\n",
    "\n",
    "plt.xlabel(\"k\")\n",
    "plt.ylabel(\"Validation Score\")\n",
    "plt.title(\"Validation Curve, Mushroom Problem\")\n",
    "\n",
    "plt.savefig(\"k_validation_mushroom.png\")\n",
    "\n",
    "#with open(\"knn_experiments/mushroom_results.txt\", \"a\") as f:\n",
    "#        f.write(f\"Best i: {best_i} Test score: {test_score}\\n\")\n",
    "\n",
    "#scaler didn't work"
   ]
  },
  {
   "cell_type": "code",
   "execution_count": 1556,
   "id": "1077b014",
   "metadata": {},
   "outputs": [
    {
     "name": "stdout",
     "output_type": "stream",
     "text": [
      "[[1.72643654 1.83257468 1.87899055 1.90660588 2.0033754  2.2287132\n",
      "  2.27064408 2.32354937 2.3353652  2.34654622 2.39288711 2.41582617\n",
      "  2.43084387 2.43711213 2.44980525 2.48296977 2.48739562 2.50907856\n",
      "  2.50931893 2.51488183 2.51714932 2.52283232 2.54429078 2.54745259\n",
      "  2.55194515 2.55950844 2.56542897 2.57312667 2.59576072]]\n"
     ]
    }
   ],
   "source": [
    "dist, ind = knn.kneighbors([X_test[5]], n_neighbors=29)\n",
    "print(dist)"
   ]
  },
  {
   "cell_type": "code",
   "execution_count": 1595,
   "id": "0fcfc1b9",
   "metadata": {},
   "outputs": [
    {
     "name": "stdout",
     "output_type": "stream",
     "text": [
      "Runtime: 0.00494074821472168\n",
      "0.837078292042763\n",
      "0.01240086555480957\n"
     ]
    },
    {
     "name": "stderr",
     "output_type": "stream",
     "text": [
      "/opt/homebrew/Caskroom/miniconda/base/envs/holford/lib/python3.11/site-packages/sklearn/base.py:464: UserWarning: X does not have valid feature names, but KNeighborsClassifier was fitted with feature names\n",
      "  warnings.warn(\n"
     ]
    }
   ],
   "source": [
    "#best is 22\n",
    "start = time.time()\n",
    "knn = KNeighborsClassifier(n_neighbors=best_i).fit(X_train, y_train)\n",
    "end = time.time()\n",
    "runtime = end - start\n",
    "print(f\"Runtime: {runtime}\")\n",
    "\n",
    "start = time.time()\n",
    "score = roc_auc_score(y_test, knn.predict_proba(X_test.values)[:, 1])\n",
    "end = time.time()\n",
    "runtime = end - start\n",
    "print(score)\n",
    "print(runtime)"
   ]
  },
  {
   "cell_type": "code",
   "execution_count": 1106,
   "id": "bf1aaa06",
   "metadata": {},
   "outputs": [
    {
     "data": {
      "text/plain": [
       "39"
      ]
     },
     "execution_count": 1106,
     "metadata": {},
     "output_type": "execute_result"
    }
   ],
   "source": [
    "best_i"
   ]
  },
  {
   "cell_type": "code",
   "execution_count": 1574,
   "id": "7be33c8f",
   "metadata": {},
   "outputs": [
    {
     "name": "stderr",
     "output_type": "stream",
     "text": [
      "/opt/homebrew/Caskroom/miniconda/base/envs/holford/lib/python3.11/site-packages/sklearn/model_selection/_validation.py:824: UserWarning: Scoring failed. The score on this train-test partition for these parameters will be set to nan. Details: \n",
      "Traceback (most recent call last):\n",
      "  File \"/opt/homebrew/Caskroom/miniconda/base/envs/holford/lib/python3.11/site-packages/sklearn/metrics/_scorer.py\", line 459, in _score\n",
      "    y_pred = method_caller(clf, \"decision_function\", X, pos_label=pos_label)\n",
      "             ^^^^^^^^^^^^^^^^^^^^^^^^^^^^^^^^^^^^^^^^^^^^^^^^^^^^^^^^^^^^^^^\n",
      "  File \"/opt/homebrew/Caskroom/miniconda/base/envs/holford/lib/python3.11/site-packages/sklearn/metrics/_scorer.py\", line 86, in _cached_call\n",
      "    result, _ = _get_response_values(\n",
      "                ^^^^^^^^^^^^^^^^^^^^^\n",
      "  File \"/opt/homebrew/Caskroom/miniconda/base/envs/holford/lib/python3.11/site-packages/sklearn/utils/_response.py\", line 73, in _get_response_values\n",
      "    prediction_method = _check_response_method(estimator, response_method)\n",
      "                        ^^^^^^^^^^^^^^^^^^^^^^^^^^^^^^^^^^^^^^^^^^^^^^^^^^\n",
      "  File \"/opt/homebrew/Caskroom/miniconda/base/envs/holford/lib/python3.11/site-packages/sklearn/utils/validation.py\", line 1940, in _check_response_method\n",
      "    raise AttributeError(\n",
      "AttributeError: KNeighborsClassifier has none of the following attributes: decision_function.\n",
      "\n",
      "During handling of the above exception, another exception occurred:\n",
      "\n",
      "Traceback (most recent call last):\n",
      "  File \"/opt/homebrew/Caskroom/miniconda/base/envs/holford/lib/python3.11/site-packages/sklearn/model_selection/_validation.py\", line 813, in _score\n",
      "    scores = scorer(estimator, X_test, y_test)\n",
      "             ^^^^^^^^^^^^^^^^^^^^^^^^^^^^^^^^^\n",
      "  File \"/opt/homebrew/Caskroom/miniconda/base/envs/holford/lib/python3.11/site-packages/sklearn/metrics/_scorer.py\", line 266, in __call__\n",
      "    return self._score(partial(_cached_call, None), estimator, X, y_true, **_kwargs)\n",
      "           ^^^^^^^^^^^^^^^^^^^^^^^^^^^^^^^^^^^^^^^^^^^^^^^^^^^^^^^^^^^^^^^^^^^^^^^^^\n",
      "  File \"/opt/homebrew/Caskroom/miniconda/base/envs/holford/lib/python3.11/site-packages/sklearn/metrics/_scorer.py\", line 466, in _score\n",
      "    y_pred = method_caller(clf, \"predict_proba\", X, pos_label=pos_label)\n",
      "             ^^^^^^^^^^^^^^^^^^^^^^^^^^^^^^^^^^^^^^^^^^^^^^^^^^^^^^^^^^^\n",
      "  File \"/opt/homebrew/Caskroom/miniconda/base/envs/holford/lib/python3.11/site-packages/sklearn/metrics/_scorer.py\", line 86, in _cached_call\n",
      "    result, _ = _get_response_values(\n",
      "                ^^^^^^^^^^^^^^^^^^^^^\n",
      "  File \"/opt/homebrew/Caskroom/miniconda/base/envs/holford/lib/python3.11/site-packages/sklearn/utils/_response.py\", line 96, in _get_response_values\n",
      "    raise ValueError(err_msg)\n",
      "ValueError: Got predict_proba of shape (377, 1), but need classifier with two classes.\n",
      "\n",
      "  warnings.warn(\n",
      "/opt/homebrew/Caskroom/miniconda/base/envs/holford/lib/python3.11/site-packages/sklearn/model_selection/_validation.py:824: UserWarning: Scoring failed. The score on this train-test partition for these parameters will be set to nan. Details: \n",
      "Traceback (most recent call last):\n",
      "  File \"/opt/homebrew/Caskroom/miniconda/base/envs/holford/lib/python3.11/site-packages/sklearn/metrics/_scorer.py\", line 459, in _score\n",
      "    y_pred = method_caller(clf, \"decision_function\", X, pos_label=pos_label)\n",
      "             ^^^^^^^^^^^^^^^^^^^^^^^^^^^^^^^^^^^^^^^^^^^^^^^^^^^^^^^^^^^^^^^\n",
      "  File \"/opt/homebrew/Caskroom/miniconda/base/envs/holford/lib/python3.11/site-packages/sklearn/metrics/_scorer.py\", line 86, in _cached_call\n",
      "    result, _ = _get_response_values(\n",
      "                ^^^^^^^^^^^^^^^^^^^^^\n",
      "  File \"/opt/homebrew/Caskroom/miniconda/base/envs/holford/lib/python3.11/site-packages/sklearn/utils/_response.py\", line 73, in _get_response_values\n",
      "    prediction_method = _check_response_method(estimator, response_method)\n",
      "                        ^^^^^^^^^^^^^^^^^^^^^^^^^^^^^^^^^^^^^^^^^^^^^^^^^^\n",
      "  File \"/opt/homebrew/Caskroom/miniconda/base/envs/holford/lib/python3.11/site-packages/sklearn/utils/validation.py\", line 1940, in _check_response_method\n",
      "    raise AttributeError(\n",
      "AttributeError: KNeighborsClassifier has none of the following attributes: decision_function.\n",
      "\n",
      "During handling of the above exception, another exception occurred:\n",
      "\n",
      "Traceback (most recent call last):\n",
      "  File \"/opt/homebrew/Caskroom/miniconda/base/envs/holford/lib/python3.11/site-packages/sklearn/model_selection/_validation.py\", line 813, in _score\n",
      "    scores = scorer(estimator, X_test, y_test)\n",
      "             ^^^^^^^^^^^^^^^^^^^^^^^^^^^^^^^^^\n",
      "  File \"/opt/homebrew/Caskroom/miniconda/base/envs/holford/lib/python3.11/site-packages/sklearn/metrics/_scorer.py\", line 266, in __call__\n",
      "    return self._score(partial(_cached_call, None), estimator, X, y_true, **_kwargs)\n",
      "           ^^^^^^^^^^^^^^^^^^^^^^^^^^^^^^^^^^^^^^^^^^^^^^^^^^^^^^^^^^^^^^^^^^^^^^^^^\n",
      "  File \"/opt/homebrew/Caskroom/miniconda/base/envs/holford/lib/python3.11/site-packages/sklearn/metrics/_scorer.py\", line 466, in _score\n",
      "    y_pred = method_caller(clf, \"predict_proba\", X, pos_label=pos_label)\n",
      "             ^^^^^^^^^^^^^^^^^^^^^^^^^^^^^^^^^^^^^^^^^^^^^^^^^^^^^^^^^^^\n",
      "  File \"/opt/homebrew/Caskroom/miniconda/base/envs/holford/lib/python3.11/site-packages/sklearn/metrics/_scorer.py\", line 86, in _cached_call\n",
      "    result, _ = _get_response_values(\n",
      "                ^^^^^^^^^^^^^^^^^^^^^\n",
      "  File \"/opt/homebrew/Caskroom/miniconda/base/envs/holford/lib/python3.11/site-packages/sklearn/utils/_response.py\", line 96, in _get_response_values\n",
      "    raise ValueError(err_msg)\n",
      "ValueError: Got predict_proba of shape (150, 1), but need classifier with two classes.\n",
      "\n",
      "  warnings.warn(\n"
     ]
    },
    {
     "data": {
      "image/png": "[encoded data removed]",
      "text/plain": [
       "<Figure size 640x480 with 1 Axes>"
      ]
     },
     "metadata": {},
     "output_type": "display_data"
    }
   ],
   "source": [
    "clf =  KNeighborsClassifier(n_neighbors=20)\n",
    "\n",
    "train_sizes = [.1, .2, .3, .4, .5, .6, .7, .8, .9, 1.0]\n",
    "train_sizes, train_scores, test_scores = learning_curve(clf, X_reduced.values, y.values, train_sizes=train_sizes, scoring='roc_auc')\n",
    "plt.plot(train_sizes, test_scores.mean(axis=1))\n",
    "plt.xlabel(\"Data Points\")\n",
    "plt.ylabel(\"Validation Score\")\n",
    "plt.title(\"Learning Curve, Coke\")\n",
    "\n",
    "plt.savefig(\"KNN_learn_curve_coke.png\")\n",
    "\n",
    "plt.clf()\n",
    "\n",
    "plt.plot(train_sizes, train_scores.mean(axis=1))\n",
    "plt.xlabel(\"Data Points\")\n",
    "plt.ylabel(\"Train Score\")\n",
    "plt.title(\"Learning Curve, Coke\")\n",
    "\n",
    "plt.savefig(\"KNN_train_curve_coke.png\")\n"
   ]
  },
  {
   "cell_type": "code",
   "execution_count": 1123,
   "id": "19ce948a",
   "metadata": {},
   "outputs": [],
   "source": [
    "#results\n",
    "# Decision Tree: Mushrooms .801 (.0078 s), Cocaine .732 (.00593 s)\n",
    "# Neural Network: Mushrooms .841 (.199 s), Cocaine .777 (.218 s)\n",
    "# Boosting: Mushrooms .843 (.157 s), Cocaine .782 (.0650 s)\n",
    "# SVM: Mushrooms .845 (.168 s), Cocaine .764 (.213 s)\n",
    "# KNN: Mushrooms .831 (.0043 s), Cocaine .770 (.00367 s)"
   ]
  },
  {
   "cell_type": "code",
   "execution_count": null,
   "id": "08ea524e",
   "metadata": {},
   "outputs": [],
   "source": []
  }
 ],
 "metadata": {
  "kernelspec": {
   "display_name": "holford_kernel",
   "language": "python",
   "name": "holford_kernel"
  },
  "language_info": {
   "codemirror_mode": {
    "name": "ipython",
    "version": 3
   },
   "file_extension": ".py",
   "mimetype": "text/x-python",
   "name": "python",
   "nbconvert_exporter": "python",
   "pygments_lexer": "ipython3",
   "version": "3.11.4"
  }
 },
 "nbformat": 4,
 "nbformat_minor": 5
}
